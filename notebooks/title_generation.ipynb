{
 "cells": [
  {
   "cell_type": "code",
   "execution_count": 2,
   "id": "343e573b",
   "metadata": {},
   "outputs": [],
   "source": [
    "import numpy as np\n",
    "import pandas as pd"
   ]
  },
  {
   "cell_type": "code",
   "execution_count": 3,
   "id": "44cbbfe8",
   "metadata": {},
   "outputs": [
    {
     "data": {
      "text/plain": [
       "Index(['S_NAME', 'QUESTION', 'ANSWER', 'OPEN_TIME_', 'RESOLVE_TIME_',\n",
       "       'CLOSE_TIME_', 'ATC_NEXT_BREACH_', 'TITLE', 'SUBCATEGORY', 'REG',\n",
       "       'PRIORITY', 'AVARIYA', 'SOURCE', 'QUESTION_FULL', 'SUBCATEGORY_CLEAN',\n",
       "       'hour_sin', 'hour_cos', 'day_of_week_sin', 'day_of_week_cos',\n",
       "       'is_weekend', 'day_of_month_sin', 'day_of_month_cos'],\n",
       "      dtype='object')"
      ]
     },
     "execution_count": 3,
     "metadata": {},
     "output_type": "execute_result"
    }
   ],
   "source": [
    "df = pd.read_csv('../data/processed/cleaned_dataset.csv')\n",
    "df.columns"
   ]
  },
  {
   "cell_type": "code",
   "execution_count": 4,
   "id": "76ab7135",
   "metadata": {},
   "outputs": [
    {
     "data": {
      "text/html": [
       "<div>\n",
       "<style scoped>\n",
       "    .dataframe tbody tr th:only-of-type {\n",
       "        vertical-align: middle;\n",
       "    }\n",
       "\n",
       "    .dataframe tbody tr th {\n",
       "        vertical-align: top;\n",
       "    }\n",
       "\n",
       "    .dataframe thead th {\n",
       "        text-align: right;\n",
       "    }\n",
       "</style>\n",
       "<table border=\"1\" class=\"dataframe\">\n",
       "  <thead>\n",
       "    <tr style=\"text-align: right;\">\n",
       "      <th></th>\n",
       "      <th>TITLE</th>\n",
       "      <th>S_NAME</th>\n",
       "      <th>SUBCATEGORY_CLEAN</th>\n",
       "    </tr>\n",
       "  </thead>\n",
       "  <tbody>\n",
       "    <tr>\n",
       "      <th>34089</th>\n",
       "      <td>блокировка уз</td>\n",
       "      <td>СЭД</td>\n",
       "      <td>Доступ к ИСОД</td>\n",
       "    </tr>\n",
       "    <tr>\n",
       "      <th>373316</th>\n",
       "      <td>блокировка уз</td>\n",
       "      <td>СЭД</td>\n",
       "      <td>Доступ к ИСОД</td>\n",
       "    </tr>\n",
       "    <tr>\n",
       "      <th>696448</th>\n",
       "      <td>техническая ошибка \"миграционный учет\"</td>\n",
       "      <td>ЕИР РМУ</td>\n",
       "      <td>Прочее</td>\n",
       "    </tr>\n",
       "  </tbody>\n",
       "</table>\n",
       "</div>"
      ],
      "text/plain": [
       "                                         TITLE   S_NAME SUBCATEGORY_CLEAN\n",
       "34089                            блокировка уз      СЭД     Доступ к ИСОД\n",
       "373316                           блокировка уз      СЭД     Доступ к ИСОД\n",
       "696448  техническая ошибка \"миграционный учет\"  ЕИР РМУ            Прочее"
      ]
     },
     "execution_count": 4,
     "metadata": {},
     "output_type": "execute_result"
    }
   ],
   "source": [
    "titles_df = df[['TITLE', 'S_NAME', 'SUBCATEGORY_CLEAN']]\n",
    "titles_df.sample(3)"
   ]
  },
  {
   "cell_type": "code",
   "execution_count": 47,
   "id": "c0484203",
   "metadata": {},
   "outputs": [
    {
     "name": "stderr",
     "output_type": "stream",
     "text": [
      "C:\\Users\\mew\\AppData\\Local\\Temp\\ipykernel_19176\\2243529552.py:12: SettingWithCopyWarning: \n",
      "A value is trying to be set on a copy of a slice from a DataFrame.\n",
      "Try using .loc[row_indexer,col_indexer] = value instead\n",
      "\n",
      "See the caveats in the documentation: https://pandas.pydata.org/pandas-docs/stable/user_guide/indexing.html#returning-a-view-versus-a-copy\n",
      "  titles_df['title_clean'] = titles_df['TITLE'].apply(clean_title)\n"
     ]
    }
   ],
   "source": [
    "import re\n",
    "\n",
    "def clean_title(t: str) -> str:\n",
    "    t = t.strip()\n",
    "    t = re.sub(r'\\s+', ' ', t)  # лишние пробелы\n",
    "    t = re.sub(r'[\\\"\\'<>]', '', t)  # кавычки, скобки\n",
    "    t = re.sub(r'сц\\s*\\d*', '', t)  # удаляем \"сц\" и любые следующие цифры\n",
    "    t = re.sub(r'\\(\\s*\\)', '', t)  # удаляем пустые скобки\n",
    "    # return t[:100]  # обрезка до 100 символов\n",
    "    return t\n",
    "\n",
    "titles_df['title_clean'] = titles_df['TITLE'].apply(clean_title)"
   ]
  },
  {
   "cell_type": "code",
   "execution_count": 48,
   "id": "b8165982",
   "metadata": {},
   "outputs": [
    {
     "data": {
      "text/plain": [
       "Series([], Name: title_clean, dtype: object)"
      ]
     },
     "execution_count": 48,
     "metadata": {},
     "output_type": "execute_result"
    }
   ],
   "source": [
    "titles_df[titles_df['title_clean'].str.contains(\"сц\")]['title_clean']"
   ]
  },
  {
   "cell_type": "code",
   "execution_count": 50,
   "id": "65dfbf4d",
   "metadata": {},
   "outputs": [],
   "source": [
    "from rapidfuzz import process, fuzz\n",
    "import json\n",
    "\n",
    "SIMILARITY_SCORE = 97\n",
    "\n",
    "# 1. Ищем похожие классы по Левенштейну\n",
    "unique_classes = titles_df['title_clean'].unique()\n",
    "similar_map = {}\n",
    "\n",
    "# Аггрегируем классы со схожестью > 90\n",
    "for cls in unique_classes:\n",
    "    matches = process.extract(\n",
    "        cls, \n",
    "        unique_classes, \n",
    "        scorer=fuzz.ratio, \n",
    "        limit=None\n",
    "    )\n",
    "    similar_map[cls] = [m[0] for m in matches if m[0] != cls and m[1] >= SIMILARITY_SCORE]"
   ]
  },
  {
   "cell_type": "code",
   "execution_count": 51,
   "id": "ff19ce17",
   "metadata": {},
   "outputs": [
    {
     "name": "stdout",
     "output_type": "stream",
     "text": [
      "\n",
      "Похожие классы (порог 90%):\n",
      "- запрос информации по фис гибдд-м -> ['+запрос информации по фис гибдд-м', '0запрос информации по фис гибдд-м', 'юзапрос информации по фис гибдд-м', ',запрос информации по фис гибдд-м']\n",
      "- корректировка данных в сооп -> ['корректировка данных в сооп\\\\', 'корректировка даннеых в сооп', 'корректировка данныхх в сооп', 'ёкорректировка данных в сооп', 'корректировка данны в сооп', 'корректировк данных в сооп', 'корректировка данныхв сооп', 'крректировка данных в сооп', 'коррекировка данных в сооп', 'корректировка даных в сооп', 'корректировка данных в соо', 'корректровка данных в сооп']\n",
      "- запрос информации по сооп -> ['зпрос информации по сооп']\n",
      "- запрос информации -> ['запрос информации ']\n",
      "- запрос информации по содч -> ['пзапрос информации по содч', '.запрос информации по содч']\n",
      "- корректировка прав в сэд -> ['dкорректировка прав в сэд']\n",
      "- запрос информации по ибд-м -> ['.запрос информации по ибд-м']\n",
      "- сэд. приволжский федеральный округ. снижение производительности. -> ['сэд. приволжский федеральный округ. снижение производительности']\n",
      "- дополнительная информация к обращению -> ['дополнительная информация к обращения']\n",
      "- некорректное отображение данных в фис гибдд-м -> ['некорректное отоюражение данных в фис гибдд-м']\n",
      "- запрос информации по рабочему месту -> ['сзапрос информации по рабочему месту']\n",
      "- запрос информации по спгу -> ['взапрос информации по спгу', 'рзапрос информации по спгу', 'запрос информации по спгу ']\n",
      "- запрос информации  -> ['.запрос информации ', 'запрос информации (', 'запрос информации', 'зарос информации ']\n",
      "- запрос информации по паутине -> ['взапрос информации по паутине', 'рзапрос информации по паутине', 'запрос информации по паутине ', 'запрос нинформации по паутине']\n",
      "- сэд. сибирский федеральный округ. нарушена функциональность. -> ['сэд. сибирский федеральный округ. нарушена функциональность']\n",
      "- сэд. приволжский федеральный округ. снижение производительности -> ['сэд. приволжский федеральный округ. снижение производительности.']\n",
      "- сэд. сибирский федеральный округ. нарушена функциональность -> ['сэд. сибирский федеральный округ. нарушена функциональность.']\n",
      "- запрос информации по электронной очереди -> ['апзапрос информации по электронной очереди']\n",
      "- сэд. центральный федеральный округ. дисковое простарнство -> ['сэд. центральный федеральный округ. дисковое пространство']\n",
      "- запрос на консультацию  -> ['запрос на консультацию']\n",
      "- взапрос информации по спгу -> ['запрос информации по спгу']\n"
     ]
    }
   ],
   "source": [
    "print(\"\\nПохожие классы (порог 90%):\")\n",
    "for i, (k, v) in enumerate(similar_map.items()):\n",
    "    if i > 100:\n",
    "        break\n",
    "    if v:\n",
    "        print(f\"- {k} -> {v}\")"
   ]
  },
  {
   "cell_type": "code",
   "execution_count": 53,
   "id": "bd492444",
   "metadata": {},
   "outputs": [],
   "source": [
    "PREFERRED_SUBCATS = []\n",
    "\n",
    "parent = {c: c for c in unique_classes}\n",
    "\n",
    "def find(x):\n",
    "    while parent[x] != x:\n",
    "        parent[x] = parent[parent[x]]\n",
    "        x = parent[x]\n",
    "    return x\n",
    "\n",
    "def union(a, b):\n",
    "    ra, rb = find(a), find(b)\n",
    "    if ra != rb:\n",
    "        parent[rb] = ra\n",
    "\n",
    "for cls, similars in similar_map.items():\n",
    "    for s in similars:\n",
    "        union(cls, s)\n",
    "\n",
    "clusters = {}\n",
    "for c in unique_classes:\n",
    "    root = find(c)\n",
    "    clusters.setdefault(root, []).append(c)\n",
    "\n",
    "# Выбор референсов\n",
    "counts = titles_df['title_clean'].value_counts()\n",
    "similar_mapping = {}\n",
    "\n",
    "for root, members in clusters.items():\n",
    "    # Проверка на user-preferred\n",
    "    preferred = None\n",
    "    for pref in PREFERRED_SUBCATS:\n",
    "        if pref in members:\n",
    "            preferred = pref\n",
    "            break\n",
    "    \n",
    "    if preferred:\n",
    "        rep = preferred\n",
    "    else:\n",
    "        # Самый частый класс в кластере\n",
    "        rep = max(members, key=lambda x: counts.get(x, 0))\n",
    "    \n",
    "    for m in members:\n",
    "        similar_mapping[m] = rep"
   ]
  },
  {
   "cell_type": "code",
   "execution_count": null,
   "id": "c4382914",
   "metadata": {},
   "outputs": [
    {
     "data": {
      "text/plain": [
       "295535     добавление в список рассылки\n",
       "114563       запрос информации по судис\n",
       "74123          восстановление пароля уз\n",
       "54313            разблокировка уз в ошс\n",
       "335741       запрос информации по ибд-м\n",
       "96217          корректировка прав в сэд\n",
       "105204         восстановление пароля уз\n",
       "406184       запрос информации по судис\n",
       "162273    предоставление доступа к сооп\n",
       "627638              изменение данных уз\n",
       "Name: TITLE, dtype: object"
      ]
     },
     "execution_count": 57,
     "metadata": {},
     "output_type": "execute_result"
    },
    {
     "ename": "",
     "evalue": "",
     "output_type": "error",
     "traceback": [
      "\u001b[1;31mThe Kernel crashed while executing code in the current cell or a previous cell. \n",
      "\u001b[1;31mPlease review the code in the cell(s) to identify a possible cause of the failure. \n",
      "\u001b[1;31mClick <a href='https://aka.ms/vscodeJupyterKernelCrash'>here</a> for more info. \n",
      "\u001b[1;31mView Jupyter <a href='command:jupyter.viewOutput'>log</a> for further details."
     ]
    }
   ],
   "source": [
    "df['TITLE'].sample(10)"
   ]
  },
  {
   "cell_type": "code",
   "execution_count": 81,
   "id": "4c5443da",
   "metadata": {},
   "outputs": [],
   "source": [
    "arr = np.load('../data/features/title_bge_m3.npz')[\"ids\"]"
   ]
  },
  {
   "cell_type": "code",
   "execution_count": 84,
   "id": "e05b9013",
   "metadata": {},
   "outputs": [
    {
     "data": {
      "text/plain": [
       "RangeIndex(start=0, stop=699869, step=1)"
      ]
     },
     "execution_count": 84,
     "metadata": {},
     "output_type": "execute_result"
    }
   ],
   "source": []
  },
  {
   "cell_type": "code",
   "execution_count": 68,
   "id": "334b711a",
   "metadata": {},
   "outputs": [],
   "source": [
    "title_vecs = np.load('../data/features/title_bge_m3.npz')[\"features\"]"
   ]
  },
  {
   "cell_type": "code",
   "execution_count": 79,
   "id": "ec264f7f",
   "metadata": {},
   "outputs": [
    {
     "data": {
      "text/plain": [
       "array([-0.0119501 ,  0.02293888, -0.07833769, ..., -0.05120265,\n",
       "        0.05019483,  0.02272015], dtype=float32)"
      ]
     },
     "execution_count": 79,
     "metadata": {},
     "output_type": "execute_result"
    }
   ],
   "source": [
    "title_vecs[484204]"
   ]
  }
 ],
 "metadata": {
  "kernelspec": {
   "display_name": "nlp_course",
   "language": "python",
   "name": "python3"
  },
  "language_info": {
   "codemirror_mode": {
    "name": "ipython",
    "version": 3
   },
   "file_extension": ".py",
   "mimetype": "text/x-python",
   "name": "python",
   "nbconvert_exporter": "python",
   "pygments_lexer": "ipython3",
   "version": "3.12.3"
  }
 },
 "nbformat": 4,
 "nbformat_minor": 5
}
