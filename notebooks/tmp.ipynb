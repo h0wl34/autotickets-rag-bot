{
 "cells": [
  {
   "cell_type": "code",
   "execution_count": 1,
   "id": "a0bc0e76",
   "metadata": {},
   "outputs": [],
   "source": [
    "import sys\n",
    "from pathlib import Path\n",
    "sys.path.append(str(Path.cwd().parent))\n",
    "from src.data_loader import load_features\n",
    "from src.trainers import train_on_split\n",
    "\n",
    "import pandas as pd\n",
    "import numpy as np\n",
    "from src.model_utils import load_model_bundle\n",
    "from src.data_loader import load_split, load_features, load_target\n",
    "from src.config import MODELS_DIR, TARGETS\n",
    "from sklearn.model_selection import train_test_split\n",
    "from sklearn.preprocessing import LabelEncoder, OrdinalEncoder\n",
    "from pathlib import Path\n",
    "import sys\n",
    "import joblib\n",
    "from sklearn.metrics import classification_report\n",
    "from src.config import DEFAULT_FEATURES\n"
   ]
  },
  {
   "cell_type": "code",
   "execution_count": 2,
   "id": "da4ac277",
   "metadata": {},
   "outputs": [
    {
     "name": "stdout",
     "output_type": "stream",
     "text": [
      "Loaded 1 sparse and 2 dense feature arrays.\n",
      "Loaded 1 sparse and 2 dense feature arrays.\n"
     ]
    }
   ],
   "source": [
    "features = DEFAULT_FEATURES\n",
    "target_col = TARGETS[\"subcategory\"]\n",
    "\n",
    "train_split = load_split(\"train\")\n",
    "val_split = load_split(\"val\")\n",
    "\n",
    "train_split = load_split(\"train\")\n",
    "val_split = load_split(\"val\")\n",
    "X_train = load_features(features, output_format=\"sparse\")[train_split]\n",
    "y_train = load_target(target_col)[train_split]\n",
    "X_val = load_features(features, output_format=\"sparse\")[val_split]\n",
    "y_val = load_target(target_col)[val_split]\n"
   ]
  },
  {
   "cell_type": "code",
   "execution_count": 7,
   "id": "339e9894",
   "metadata": {},
   "outputs": [],
   "source": [
    "from src.model_utils import build_model, ModelBundle, load_model_bundle\n",
    "from src.config import DEFAULT_MODEL_CONFIGS"
   ]
  },
  {
   "cell_type": "code",
   "execution_count": 8,
   "id": "1eb78a4d",
   "metadata": {},
   "outputs": [],
   "source": [
    "params = DEFAULT_MODEL_CONFIGS['catboost']"
   ]
  },
  {
   "cell_type": "code",
   "execution_count": null,
   "id": "376efe41",
   "metadata": {},
   "outputs": [
    {
     "name": "stdout",
     "output_type": "stream",
     "text": [
      "0:\tlearn: 0.8312306\ttest: 0.8299044\tbest: 0.8299044 (0)\ttotal: 2m 8s\tremaining: 1h 44m 48s\n"
     ]
    }
   ],
   "source": [
    "model, metrics = train_on_split('catboost', params , X_train, y_train, X_val, y_val)"
   ]
  }
 ],
 "metadata": {
  "kernelspec": {
   "display_name": "Python 3",
   "language": "python",
   "name": "python3"
  },
  "language_info": {
   "codemirror_mode": {
    "name": "ipython",
    "version": 3
   },
   "file_extension": ".py",
   "mimetype": "text/x-python",
   "name": "python",
   "nbconvert_exporter": "python",
   "pygments_lexer": "ipython3",
   "version": "3.12.3"
  }
 },
 "nbformat": 4,
 "nbformat_minor": 5
}
