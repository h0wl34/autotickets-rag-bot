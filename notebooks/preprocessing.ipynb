{
 "cells": [
  {
   "cell_type": "code",
   "execution_count": 1,
   "id": "cc8d96a7",
   "metadata": {},
   "outputs": [],
   "source": [
    "import pandas as pd\n",
    "import re\n",
    "import numpy as np\n",
    "\n",
    "df = pd.read_csv(\"../data/raw/upload_hak_list_08092024_1528.csv\", sep=';')"
   ]
  },
  {
   "cell_type": "code",
   "execution_count": null,
   "id": "066b40b6",
   "metadata": {},
   "outputs": [],
   "source": [
    "# cleaned = pd.read_csv('../data/processed/cleaned_dataset.csv')"
   ]
  },
  {
   "cell_type": "code",
   "execution_count": null,
   "id": "3751fd6b",
   "metadata": {},
   "outputs": [],
   "source": [
    "# m = df['QUESTION_clean'].apply(lambda x: bool(re.match(r\"^[\\x80-\\xFF]{5,}\", str(x))))"
   ]
  },
  {
   "cell_type": "markdown",
   "id": "f3ce750b",
   "metadata": {},
   "source": [
    "## Первичная обработка"
   ]
  },
  {
   "cell_type": "markdown",
   "id": "0e492f72",
   "metadata": {},
   "source": [
    "- Удалим prim_id\n",
    "- Переименуем val1 -> source\n",
    "- Переведем даты в str"
   ]
  },
  {
   "cell_type": "code",
   "execution_count": 2,
   "id": "0bd561f0",
   "metadata": {},
   "outputs": [],
   "source": [
    "# Удалим prim_id\n",
    "df = df.drop(columns=df.columns[0])"
   ]
  },
  {
   "cell_type": "code",
   "execution_count": 3,
   "id": "bd7c4a64",
   "metadata": {},
   "outputs": [
    {
     "name": "stdout",
     "output_type": "stream",
     "text": [
      "Index(['S_NAME', 'QUESTION', 'ANSWER', 'OPEN_TIME_', 'RESOLVE_TIME_',\n",
      "       'CLOSE_TIME_', 'ATC_NEXT_BREACH_', 'TITLE', 'SUBCATEGORY', 'REG',\n",
      "       'PRIORITY', 'AVARIYA', 'VAL1'],\n",
      "      dtype='object')\n"
     ]
    }
   ],
   "source": [
    "print(df.columns)\n",
    "# Переименуем для ясности\n",
    "df.rename(columns={'VAL1': 'SOURCE'}, inplace=True)"
   ]
  },
  {
   "cell_type": "code",
   "execution_count": 4,
   "id": "e114a66b",
   "metadata": {},
   "outputs": [],
   "source": [
    "# Приведем даты к типу datetime \n",
    "for col in ['OPEN_TIME_', 'RESOLVE_TIME_', 'CLOSE_TIME_', 'ATC_NEXT_BREACH_']:\n",
    "    df[col] = pd.to_datetime(df[col], errors='coerce')"
   ]
  },
  {
   "cell_type": "markdown",
   "id": "eb35f87f",
   "metadata": {},
   "source": [
    "Удалим дубликаты по не временным фичам"
   ]
  },
  {
   "cell_type": "code",
   "execution_count": 5,
   "id": "8bee87c0",
   "metadata": {},
   "outputs": [
    {
     "name": "stdout",
     "output_type": "stream",
     "text": [
      "Количество удалённых дубликатов: 212789\n",
      "Исходный размер: (705687, 13)\n",
      "Размер после удаления дубликатов: (705687, 13)\n"
     ]
    }
   ],
   "source": [
    "not_time_cols = ['QUESTION', 'ANSWER', 'SUBCATEGORY', 'SOURCE', 'TITLE', 'REG', 'AVARIYA', 'S_NAME']\n",
    "\n",
    "# Сортируем по времени, чтобы первая по времени была первой\n",
    "df_sorted = df.sort_values(by='OPEN_TIME_')\n",
    "\n",
    "# Маска дубликатов (оставляем первую по времени)\n",
    "duplicates_mask = df_sorted.duplicated(subset=not_time_cols, keep='first')\n",
    "\n",
    "# Индексы строк, которые будут удалены\n",
    "duplicate_indices = df_sorted[duplicates_mask].index\n",
    "\n",
    "# Удаляем дубликаты, оставляя первые по времени\n",
    "df = df_sorted[~duplicates_mask].reset_index(drop=True)\n",
    "\n",
    "# Проверка\n",
    "print(\"Количество удалённых дубликатов:\", len(duplicate_indices))\n",
    "print(\"Исходный размер:\", df.shape)\n",
    "print(\"Размер после удаления дубликатов:\", df.shape)\n",
    "\n",
    "# np.save(\"../data/processed/duplicate_idx.npy\", duplicate_indices)"
   ]
  },
  {
   "cell_type": "markdown",
   "id": "1d0cff65",
   "metadata": {},
   "source": [
    "Удалим пустые и неинформативные Question"
   ]
  },
  {
   "cell_type": "code",
   "execution_count": 6,
   "id": "fc80ba1c",
   "metadata": {},
   "outputs": [],
   "source": [
    "TEXT_PLACEHOLDER = '[NO_TEXT]'\n",
    "\n",
    "unwanted_patterns = [\n",
    "    r\"\\bnan\\b\",\n",
    "    r\"\\bпусто\\b\",\n",
    "    r\"отсутствует текст описание пустое\",\n",
    "    r\"fwd:\\s*описание пустое\",\n",
    "    r\"пустое описание\",\n",
    "    r\"отсутствует текст\",\n",
    "    r\"\\bотсутствует\\b\",\n",
    "    r\"\\bнету\\b\",\n",
    "    r\"\\bнет\\b\",\n",
    "]\n",
    "\n",
    "def clean_unwanted(text: str) -> str:\n",
    "    if pd.isna(text):\n",
    "        return TEXT_PLACEHOLDER\n",
    "    \n",
    "    t = str(text).strip()\n",
    "\n",
    "    for pat in unwanted_patterns:\n",
    "        # --- unwanted at start ---\n",
    "        m = re.match(pat, t, re.IGNORECASE)\n",
    "        if m:\n",
    "            # If the whole string is basically just the junk → NO_TEXT\n",
    "            rest = t[m.end():].strip()\n",
    "            return rest if rest else TEXT_PLACEHOLDER\n",
    "\n",
    "        # --- unwanted at end ---\n",
    "        m = re.search(pat + r\"\\s*$\", t)\n",
    "        if m:\n",
    "            rest = t[:m.start()].rstrip()\n",
    "            return rest if rest else TEXT_PLACEHOLDER\n",
    "\n",
    "    return t\n"
   ]
  },
  {
   "cell_type": "code",
   "execution_count": 7,
   "id": "6164c34c",
   "metadata": {},
   "outputs": [],
   "source": [
    "df['QUESTION_clean'] = df['QUESTION'].apply(clean_unwanted)"
   ]
  },
  {
   "cell_type": "code",
   "execution_count": 8,
   "id": "e85997d7",
   "metadata": {},
   "outputs": [
    {
     "data": {
      "text/plain": [
       "572195    Отсутствует текст Описание пустое\n",
       "697165    Отсутствует текст Описание пустое\n",
       "467984    Отсутствует текст Описание пустое\n",
       "534568    Отсутствует текст Описание пустое\n",
       "206837                                  NaN\n",
       "181367    Отсутствует текст Описание пустое\n",
       "358758    Отсутствует текст Описание пустое\n",
       "599762    Отсутствует текст Описание пустое\n",
       "127443                                  NaN\n",
       "255749    Отсутствует текст Описание пустое\n",
       "Name: QUESTION, dtype: object"
      ]
     },
     "execution_count": 8,
     "metadata": {},
     "output_type": "execute_result"
    }
   ],
   "source": [
    "df[df['QUESTION_clean'] == TEXT_PLACEHOLDER]['QUESTION'].sample(10)"
   ]
  },
  {
   "cell_type": "markdown",
   "id": "65e7f82b",
   "metadata": {},
   "source": [
    "Почистим примеры с системной информацией"
   ]
  },
  {
   "cell_type": "code",
   "execution_count": 10,
   "id": "3f72f53f",
   "metadata": {},
   "outputs": [],
   "source": [
    "import re\n",
    "\n",
    "def strip_service_info(text: str) -> str:\n",
    "    if not isinstance(text, str) or len(text.strip()) == 0:\n",
    "        return TEXT_PLACEHOLDER\n",
    "\n",
    "    t = text.strip()\n",
    "\n",
    "    # --- Remove garbled/broken encoding at start ---\n",
    "    if re.match(r\"^[\\x80-\\xFF]{5,}\", t):\n",
    "        return TEXT_PLACEHOLDER\n",
    "\n",
    "    # --- Service markers ---\n",
    "    kill_markers = [\n",
    "        r\"The mail\",\n",
    "        r\"Уведомляющий Сервер\", \n",
    "        r\"Postfix Queue ID\",\n",
    "        r\"Postfix Sender\",\n",
    "        r\"Arrival Date\",\n",
    "        r\"Recipient:\",\n",
    "        r\"Original Recipient:\",\n",
    "        r\"Diagnostic Code\",\n",
    "        r\"in reply to RCPT TO command\",\n",
    "        r\"Mail received:\",\n",
    "        r\"Message ID:\",\n",
    "        r\"Receive Notification Mail\",\n",
    "        r\"Pronto! HTML5 Feedback Pronto! HTML5 client version\"\n",
    "    ]\n",
    "    \n",
    "    strip_left_markers = [\n",
    "        r\"pronto! html5 feedback\",\n",
    "        r\"Fwd:\",\n",
    "        r\"Fwd: Re:\",\n",
    "        r\"Fwd: Fwd:\"\n",
    "    ]\n",
    "\n",
    "    # Remove all consecutive strip-left markers at the start\n",
    "    while True:\n",
    "        t_strip = t\n",
    "        for pat in strip_left_markers:\n",
    "            m = re.match(pat, t, re.IGNORECASE)\n",
    "            if m:\n",
    "                t = t[m.end():].strip()\n",
    "                break  # start over to check for next consecutive marker\n",
    "        if t == t_strip:\n",
    "            break  # no more markers at start\n",
    "\n",
    "    # --- Kill markers anywhere ---\n",
    "    for pat in kill_markers:\n",
    "        m = re.search(pat, t, re.IGNORECASE)\n",
    "        if m:\n",
    "            if m.start() < 10:\n",
    "                return TEXT_PLACEHOLDER\n",
    "            t = t[:m.start()].rstrip()\n",
    "\n",
    "    # Normalize whitespace\n",
    "    t = re.sub(r\"[\\n\\r\\t]+\", \" \", t)\n",
    "    t = re.sub(r\"\\s+\", \" \", t).strip()\n",
    "\n",
    "    # If text is too short → [NO_TEXT]\n",
    "    if len(t.split()) < 1:\n",
    "        return TEXT_PLACEHOLDER\n",
    "\n",
    "    return t\n"
   ]
  },
  {
   "cell_type": "code",
   "execution_count": 11,
   "id": "67bbb3d4",
   "metadata": {},
   "outputs": [],
   "source": [
    "df['QUESTION_clean'] = df['QUESTION_clean'].apply(strip_service_info).apply(clean_unwanted)"
   ]
  },
  {
   "cell_type": "code",
   "execution_count": 13,
   "id": "e15583fc",
   "metadata": {},
   "outputs": [
    {
     "name": "stdout",
     "output_type": "stream",
     "text": [
      "4823\n"
     ]
    },
    {
     "data": {
      "text/plain": [
       "0"
      ]
     },
     "execution_count": 13,
     "metadata": {},
     "output_type": "execute_result"
    }
   ],
   "source": [
    "print(df['QUESTION'].str.contains('The mail').sum())\n",
    "df['QUESTION_clean'].str.contains('The mail').sum()"
   ]
  },
  {
   "cell_type": "code",
   "execution_count": 66,
   "id": "14f027f3",
   "metadata": {},
   "outputs": [
    {
     "data": {
      "text/plain": [
       "28949     Заявка на создание учетных записей ОП по Совет...\n",
       "271722    Добрый день. До сих пор не работает \"Хвост\" в ...\n",
       "345258         просьба удалить все данные в исх. №31/6 1801\n",
       "41740     Входящие документы 13249 и 13467 находятся в р...\n",
       "19609     НЕ ИДЕТ НА РАСПЕЧАТЫВАНИЕ СПЕЦПРОДУКЦИЯ (ВОДИТ...\n",
       "451970                Программа не дает сохранить материал.\n",
       "607813                    Восстановление пароля УЗ САФРОНОВ\n",
       "195072    \"В связи с назначением на должность начальник ...\n",
       "564870                                            Моргунова\n",
       "46016     Здравствуйте. Не удаляются входящие письма, ош...\n",
       "Name: QUESTION_clean, dtype: object"
      ]
     },
     "execution_count": 66,
     "metadata": {},
     "output_type": "execute_result"
    }
   ],
   "source": [
    "df['QUESTION_clean'].sample(10)"
   ]
  },
  {
   "cell_type": "markdown",
   "id": "cbf452ba",
   "metadata": {},
   "source": [
    "Отфильтруем чувствительные данные. В feature_engeneering из них получатся булевы фичи для классификаторов"
   ]
  },
  {
   "cell_type": "code",
   "execution_count": null,
   "id": "84c7ef83",
   "metadata": {},
   "outputs": [],
   "source": [
    "# Паттерны для чувствительных данных\n",
    "SENSITIVE_PATTERNS = {\n",
    "    \"EMAIL\": r'\\b[A-Za-z0-9._%+-]+@(?:[A-Za-z0-9-]+\\.)+[A-Za-z]{2,}\\b|<\".+?\"@[^>]+>',\n",
    "    \"INN\": r'(?i)инн\\s*\\d{5,12}',\n",
    "    \"PHONE\": r'\\b(?:\\+7|8)?[\\s-]?\\(?\\d{3,4}\\)?[\\s-]?\\d{2,3}[\\s-]?\\d{2}[\\s-]?\\d{2}(?:\\s*\\(доб\\.\\s*\\d+\\))?\\b',\n",
    "    # \"PHONE_EXT\": r'\\b8\\s?\\d{3,4}[\\s-]?\\d{2}[\\s-]?\\d{2}[\\s-]?\\d{2}(?:\\s*\\(доб\\.\\s*\\d+\\))?',\n",
    "    \"VIN\": r'\\b[A-HJ-NPR-Z0-9]{17}\\b',\n",
    "    \"INCEDENT\": r'\\bIM\\d{8-12}\\b',\n",
    "    \"REG_NUMBER\": r'\\b[АВЕКМНОРСТУХ]{1,3}\\d{3,4}[АВЕКМНОРСТУХ]{2}\\b',\n",
    "    \"CASE_NO\": r'\\b(?:[CcSs]D|T)\\d{6,10}\\b',\n",
    "    \"APPEAL_NO\": r'\\b\\d/\\d{9,12}\\b',\n",
    "    \"DOC_NO\": r'№\\s?\\d{1,6}([/\\\\-]?\\d{1,6})?([А-ЯA-Z])?',\n",
    "    \"LONG_ID\": r'\\b\\d{9,}\\b|\\b[a-f0-9]{32,128}\\b|(?:UID|GlndID|GUID)[: ]?[0-9a-fA-F\\-]{16,128}',\n",
    "    \"IP\": r'\\b(?:\\d{1,3}\\.){3}\\d{1,3}\\b',\n",
    "    \"DATE\": r'\\b\\d{2}[./-]\\d{2}[./-]\\d{2,4}(?:\\s?г\\.?)?',\n",
    "    \"FIO\": r'\\b[А-ЯЁ][а-яё]+ [А-ЯЁ]\\.[А-ЯЁ]\\.(?=[\\s,.)/]|$)',\n",
    "    \"USERNAME\": r'\\b[a-zA-Z][a-zA-Z0-9]{3,15}\\d\\b',\n",
    "    \"TOKEN\": r'\\b[a-f0-9]{16,64}\\b|\\b(?=.*[A-Z])(?=.*[a-z])(?=.*\\d)[A-Za-z0-9]{12,64}\\b',\n",
    "    \"URL\": r'https?://[^\\s]+',\n",
    "}\n",
    "\n",
    "def clean_text_for_rag(text: str) -> str:\n",
    "    \"\"\"Очистка текста для RAG и эмбеддингов\"\"\"\n",
    "    if not isinstance(text, str) or text.strip() == \"\":\n",
    "        return \"[NO_TEXT]\"\n",
    "    \n",
    "    cleaned = text\n",
    "    \n",
    "    # Убираем HTML\n",
    "    cleaned = re.sub(r\"<.*?>\", \" \", cleaned)\n",
    "    \n",
    "    # Заменяем чувствительные данные на плейсхолдеры\n",
    "    for placeholder, pattern in SENSITIVE_PATTERNS.items():\n",
    "        cleaned = re.sub(pattern, f\"[{placeholder}]\", cleaned, flags=re.IGNORECASE)\n",
    "    \n",
    "    # Управляющие символы и нормализация пробелов\n",
    "    cleaned = re.sub(r\"[\\n\\r\\t]+\", \" \", cleaned)\n",
    "    cleaned = re.sub(r\"\\s+\", \" \", cleaned).strip()\n",
    "    \n",
    "    # Если после очистки текст слишком короткий → ставим [NO_TEXT]\n",
    "    if len(cleaned.split()) < 2:\n",
    "        cleaned = TEXT_PLACEHOLDER\n",
    "    \n",
    "    return cleaned\n",
    "\n",
    "def anonymize_for_training(text: str) -> str:\n",
    "    \"\"\"\n",
    "    Заменяет конфиденциальные данные на теги, но сохраняет окружающий контекст.\n",
    "    Если после этого текст становится пустым или бессмысленным, возвращает [NO_TEXT].\n",
    "    \"\"\"\n",
    "    if not isinstance(text, str) or text.strip() == \"\":\n",
    "        return \"[NO_TEXT]\"\n",
    "    \n",
    "    cleaned = text\n",
    "    \n",
    "    # 1. Убираем HTML (остается)\n",
    "    cleaned = re.sub(r\"<.*?>\", \" \", cleaned)\n",
    "    \n",
    "    # 2. Заменяем чувствительные данные на плейсхолдеры (ГЛАВНОЕ ИЗМЕНЕНИЕ!)\n",
    "    #    Эта операция заменяет только совпавшие паттерны, а не весь текст.\n",
    "    for placeholder, pattern in SENSITIVE_PATTERNS.items():\n",
    "        cleaned = re.sub(pattern, f\"[{placeholder}]\", cleaned, flags=re.IGNORECASE)\n",
    "    \n",
    "    # 3. Управляющие символы и нормализация пробелов (остается)\n",
    "    cleaned = re.sub(r\"[\\n\\r\\t]+\", \" \", cleaned)\n",
    "    cleaned = re.sub(r\"\\s+\", \" \", cleaned).strip()\n",
    "    \n",
    "    # 4. КРИТИЧЕСКИ ВАЖНЫЙ НОВЫЙ ЭТАП: Анализ результата замены.\n",
    "    # Разбиваем текст на слова\n",
    "    words = cleaned.split()\n",
    "    \n",
    "    # Считаем, сколько у нас \"живых\" слов (не тегов)\n",
    "    normal_word_count = sum(1 for word in words if not re.match(r'^\\[[А-ЯA-Z_]+\\]$', word))\n",
    "    \n",
    "    # Если после очистки не осталось ни одного нормального слова (одни теги)...\n",
    "    if normal_word_count == 0:\n",
    "        # ...и при этом тегов больше одного, maybe есть контекст? Но обычно нет.\n",
    "        # Лучшая стратегия: пометить как [NO_TEXT]\n",
    "        cleaned = \"[NO_TEXT]\"\n",
    "    # Если осталось хоть одно нормальное слово - оставляем текст как есть, даже если он короткий.\n",
    "    # Например: \"Сбой [CASE_NO]\" - это ценный пример для классификатора\n",
    "    return cleaned\n"
   ]
  },
  {
   "cell_type": "code",
   "execution_count": 89,
   "id": "166a2866",
   "metadata": {},
   "outputs": [],
   "source": [
    "df['QUESTION_clean'] = df['QUESTION_clean'].map(anonymize_for_training)"
   ]
  },
  {
   "cell_type": "code",
   "execution_count": 90,
   "id": "e1c6c3e6",
   "metadata": {},
   "outputs": [
    {
     "name": "stdout",
     "output_type": "stream",
     "text": [
      "EMAIL: 39691\n",
      "INN: 471\n",
      "PHONE: 39800\n",
      "VIN: 2188\n",
      "INCEDENT: 0\n",
      "REG_NUMBER: 70\n",
      "CASE_NO: 70719\n",
      "APPEAL_NO: 24500\n",
      "DOC_NO: 51743\n",
      "LONG_ID: 34595\n",
      "IP: 6923\n",
      "DATE: 136358\n",
      "FIO: 163009\n",
      "USERNAME: 33572\n",
      "TOKEN: 7070\n",
      "URL: 5477\n"
     ]
    }
   ],
   "source": [
    "for key in SENSITIVE_PATTERNS.keys():\n",
    "    print(f'{key}: {df['QUESTION_clean'].str.contains(key).sum()}')"
   ]
  },
  {
   "cell_type": "code",
   "execution_count": 168,
   "id": "fcd719a5",
   "metadata": {},
   "outputs": [],
   "source": [
    "cleaned = pd.read_csv('../data/processed/cleaned_dataset.csv')"
   ]
  },
  {
   "cell_type": "code",
   "execution_count": 169,
   "id": "df9e8f03",
   "metadata": {},
   "outputs": [],
   "source": [
    "m = cleaned[\"QUESTION_clean\"] != df['QUESTION_clean']"
   ]
  },
  {
   "cell_type": "code",
   "execution_count": 170,
   "id": "2b5f1927",
   "metadata": {},
   "outputs": [],
   "source": [
    "a = pd.concat([df[m][['QUESTION_clean']], cleaned[m]['QUESTION_clean']], axis=1)"
   ]
  },
  {
   "cell_type": "code",
   "execution_count": 178,
   "id": "c738823d",
   "metadata": {},
   "outputs": [
    {
     "data": {
      "text/plain": [
       "18232                                      Сброс пароля ЭКЦ\n",
       "535138    Описание обращения: \"при работе в ГИСМУ миграц...\n",
       "387678    Прошу добавить пользователя в сервис СПГУ, ОМУ...\n",
       "689457             Добрый день. Заявка на присвоение ролей.\n",
       "556347    предложение в модуль участковый: при распечатк...\n",
       "376309    ОМВД России по Дмитровскому р ну не работает С...\n",
       "414356    В отчет по снятию с миграционного учета не поп...\n",
       "240449    СЦ 2914807 Уважаемые коллеги! В ответе от серв...\n",
       "190069    Просьба зарегистрировать обращение на блокиров...\n",
       "323593    Здравствуйте, модуль \"Участковый\", снимите с п...\n",
       "Name: QUESTION_clean, dtype: object"
      ]
     },
     "execution_count": 178,
     "metadata": {},
     "output_type": "execute_result"
    }
   ],
   "source": [
    "df['QUESTION_clean'].sample(10)"
   ]
  },
  {
   "cell_type": "code",
   "execution_count": 179,
   "id": "7b03594f",
   "metadata": {},
   "outputs": [],
   "source": [
    "cleaned[\"QUESTION_clean\"] = df['QUESTION_clean']"
   ]
  },
  {
   "cell_type": "code",
   "execution_count": 180,
   "id": "0d93cec3",
   "metadata": {},
   "outputs": [],
   "source": [
    "cleaned.to_csv('../data/processed/cleaned_dataset.csv')"
   ]
  },
  {
   "cell_type": "code",
   "execution_count": null,
   "id": "b5deb986",
   "metadata": {},
   "outputs": [],
   "source": [
    "df['QUESTION_clean'].to_csv('../data/question_texts.csv')"
   ]
  },
  {
   "cell_type": "markdown",
   "id": "140b8df3",
   "metadata": {},
   "source": [
    "То же самое для Answer"
   ]
  },
  {
   "cell_type": "code",
   "execution_count": 1133,
   "id": "b369ce94",
   "metadata": {},
   "outputs": [],
   "source": [
    "df['ANSWER_clean'] = df['ANSWER'].map(strip_service_info)"
   ]
  },
  {
   "cell_type": "code",
   "execution_count": 1134,
   "id": "904a0ba5",
   "metadata": {},
   "outputs": [],
   "source": [
    "df['ANSWER_clean'] = df['ANSWER_clean'].map(clean_text_for_rag)"
   ]
  },
  {
   "cell_type": "code",
   "execution_count": 1135,
   "id": "6239d0b6",
   "metadata": {},
   "outputs": [
    {
     "data": {
      "text/plain": [
       "array([['Необходимые корректировки внесены согласно заявке',\n",
       "        'Необходимые корректировки внесены согласно заявке'],\n",
       "       ['Для удаления постановления необходимо в рамках нового обращения в ЕЦЭ ИСОД МВД России предоставить выгрузку из раздела «Аналитика» модуля «Административная практика» СООП с обязательным наличием поля «Идентификатор дела в СООП»',\n",
       "        'Для удаления постановления необходимо в рамках нового обращения в ЕЦЭ ИСОД МВД России предоставить выгрузку из раздела «Аналитика» модуля «Административная практика» СООП с обязательным наличием поля «Идентификатор дела в СООП»'],\n",
       "       ['Отображение документа скорректировано согласно заявке',\n",
       "        'Отображение документа скорректировано согласно заявке'],\n",
       "       ['Услуга ДОПОГ функционирует в тестовом режиме, поэтому возникают ошибки и затруднения. Услуга находится в процессе доработки\\\\модернизации',\n",
       "        'Услуга ДОПОГ функционирует в тестовом режиме, поэтому возникают ошибки и затруднения. Услуга находится в процессе доработки\\\\модернизации'],\n",
       "       ['Изменения внесены, данные на ВИСП отобразятся в течение двух суток',\n",
       "        'Изменения внесены, данные на ВИСП отобразятся в течение двух суток'],\n",
       "       ['Проведены работы по администрированию. На текущий момент затрудение устранено',\n",
       "        'Проведены работы по администрированию. На текущий момент затрудение устранено'],\n",
       "       ['Заявки по модулю \"Участковый\" принимаются только от сотрудников данного модуля',\n",
       "        'Заявки по модулю \"Участковый\" принимаются только от сотрудников данного модуля'],\n",
       "       ['Пароль сброшен, архив с данными направлен в адрес Вашей электронной почты',\n",
       "        'Пароль сброшен, архив с данными направлен в адрес Вашей электронной почты'],\n",
       "       ['В соответствии с решением заместителя Министра внутренних дел Российской Федерации В.Д. Шулики от 01.03.2023 № 1/2138 в МВД России ограничено количество электронных почтовых ящиков, c которых возможен обмен электронными почтовыми сообщениями с внешними адресатами. Для получения более подробной информации Вам необходимо связаться с администратором доступа Вашего подразделения',\n",
       "        'В соответствии с решением заместителя Министра внутренних дел Российской [FIO] Шулики от [DATE] [DOC_NO] в МВД России ограничено количество электронных почтовых ящиков, c которых возможен обмен электронными почтовыми сообщениями с внешними адресатами. Для получения более подробной информации Вам необходимо связаться с администратором доступа Вашего подразделения'],\n",
       "       ['Корректные данные загружены в отчет. Обращаем Ваше внимание, что статистика в отчетах появляется в течение 1 2 дней.',\n",
       "        'Корректные данные загружены в отчет. Обращаем Ваше внимание, что статистика в отчетах появляется в течение 1 2 дней.']],\n",
       "      dtype=object)"
      ]
     },
     "execution_count": 1135,
     "metadata": {},
     "output_type": "execute_result"
    }
   ],
   "source": [
    "df[['ANSWER', 'ANSWER_clean']].sample(10).values"
   ]
  },
  {
   "cell_type": "code",
   "execution_count": 1140,
   "id": "5a33b397",
   "metadata": {},
   "outputs": [],
   "source": [
    "df_copy = df.copy()"
   ]
  },
  {
   "cell_type": "markdown",
   "id": "a5208596",
   "metadata": {},
   "source": [
    "## Обработка Subcategory\n",
    "\n",
    "- Найдем опечатки и похожие названия\n",
    "- Сольем редкие классы в \"Прочее\"\n",
    "- Создадим маппинг для будущей модели"
   ]
  },
  {
   "cell_type": "code",
   "execution_count": 1141,
   "id": "0ea7f115",
   "metadata": {},
   "outputs": [
    {
     "data": {
      "text/plain": [
       "SUBCATEGORY\n",
       "Доступ к ИСОД                                      252951\n",
       "Прочее                                             207771\n",
       "Запрос на администрирование                        105941\n",
       "Прочие вопросы                                      83282\n",
       "Настройка ПО и оборудования                         15032\n",
       "Авария                                              11155\n",
       "Коррекция данных                                     7076\n",
       "ОШС                                                  5588\n",
       "Консультация                                         4410\n",
       "Программное обеспечение.Региональные ПТК             3771\n",
       "Запрос статуса                                       3575\n",
       "Программное обеспечение                              1817\n",
       "СПГУ.Несколько модулей                               1510\n",
       "Запрос на доработку                                   925\n",
       "Оборудование                                          205\n",
       "СПГУ                                                  182\n",
       "Инцидент                                              100\n",
       "Запрос на консультацию в СОБТ                          86\n",
       "ОМУ                                                    72\n",
       "Жалоба                                                 52\n",
       "СПГУ. Несколько модулей                                44\n",
       "Прочее.Региональные ПТК                                35\n",
       "Оборудование.Региональные ПТК                          33\n",
       "Модуль ТР ГИС ГМП                                      20\n",
       "Прочее.Основной банк данных                            18\n",
       "Прочее.ПТК федерального уровня                         11\n",
       "Сервис СПГУ                                             3\n",
       "Инцидент.Региональные ПТК                               3\n",
       "Изменение ПО                                            3\n",
       "Запрос на консультацию                                  2\n",
       "Програмное обеспечение. Региональное ПТК                2\n",
       "Программное обеспечение.ПТК федерального уровня         2\n",
       "Тестирование СПО                                        2\n",
       "Тестовые среды                                          1\n",
       "Сервис СОБТ                                             1\n",
       "Запрос информации                                       1\n",
       "Програмное обеспечение. Региональные ПТК                1\n",
       "Запрос на обслуживание                                  1\n",
       "Производительность                                      1\n",
       "Программное обеспечение. Региональные ПТК               1\n",
       "Программное обеспечене. Региональные ПТК                1\n",
       "Name: count, dtype: int64"
      ]
     },
     "execution_count": 1141,
     "metadata": {},
     "output_type": "execute_result"
    }
   ],
   "source": [
    "df['SUBCATEGORY'].value_counts()"
   ]
  },
  {
   "cell_type": "markdown",
   "id": "89526c22",
   "metadata": {},
   "source": [
    "Много мусорных классов. Подавляющее большинство в топ-4 класса. \n",
    "\n",
    "Объединим опечатки и похожие кассы, сольем мусорные классы в \"Прочее\"."
   ]
  },
  {
   "cell_type": "code",
   "execution_count": 1144,
   "id": "edc9bee7",
   "metadata": {},
   "outputs": [],
   "source": [
    "from rapidfuzz import process, fuzz\n",
    "import json\n",
    "\n",
    "SIMILARITY_SCORE = 85\n",
    "\n",
    "# 1. Ищем похожие классы по Левенштейну\n",
    "unique_classes = df['SUBCATEGORY'].unique()\n",
    "similar_map = {}\n",
    "\n",
    "# Аггрегируем классы со схожестью > 90\n",
    "for cls in unique_classes:\n",
    "    matches = process.extract(\n",
    "        cls, \n",
    "        unique_classes, \n",
    "        scorer=fuzz.ratio, \n",
    "        limit=None\n",
    "    )\n",
    "    similar_map[cls] = [m[0] for m in matches if m[0] != cls and m[1] >= SIMILARITY_SCORE]"
   ]
  },
  {
   "cell_type": "code",
   "execution_count": 1146,
   "id": "e0f8acab",
   "metadata": {},
   "outputs": [
    {
     "name": "stdout",
     "output_type": "stream",
     "text": [
      "\n",
      "Похожие классы (порог 85%):\n",
      "- Программное обеспечение.Региональные ПТК -> ['Программное обеспечение. Региональные ПТК', 'Програмное обеспечение. Региональные ПТК', 'Программное обеспечене. Региональные ПТК', 'Програмное обеспечение. Региональное ПТК']\n",
      "- СПГУ.Несколько модулей -> ['СПГУ. Несколько модулей']\n",
      "- СПГУ. Несколько модулей -> ['СПГУ.Несколько модулей']\n",
      "- Програмное обеспечение. Региональное ПТК -> ['Програмное обеспечение. Региональные ПТК', 'Программное обеспечение. Региональные ПТК', 'Программное обеспечение.Региональные ПТК', 'Программное обеспечене. Региональные ПТК']\n",
      "- Запрос на консультацию в СОБТ -> ['Запрос на консультацию']\n",
      "- Запрос на консультацию -> ['Запрос на консультацию в СОБТ']\n",
      "- Програмное обеспечение. Региональные ПТК -> ['Программное обеспечение. Региональные ПТК', 'Программное обеспечение.Региональные ПТК', 'Програмное обеспечение. Региональное ПТК', 'Программное обеспечене. Региональные ПТК']\n",
      "- Программное обеспечение. Региональные ПТК -> ['Программное обеспечение.Региональные ПТК', 'Програмное обеспечение. Региональные ПТК', 'Программное обеспечене. Региональные ПТК', 'Програмное обеспечение. Региональное ПТК']\n",
      "- Программное обеспечене. Региональные ПТК -> ['Программное обеспечение. Региональные ПТК', 'Программное обеспечение.Региональные ПТК', 'Програмное обеспечение. Региональные ПТК', 'Програмное обеспечение. Региональное ПТК']\n"
     ]
    }
   ],
   "source": [
    "print(f\"\\nПохожие классы (порог {SIMILARITY_SCORE}%):\")\n",
    "for k, v in similar_map.items():\n",
    "    if v:\n",
    "        print(f\"- {k} -> {v}\")"
   ]
  },
  {
   "cell_type": "code",
   "execution_count": 1148,
   "id": "ecb82d0e",
   "metadata": {},
   "outputs": [],
   "source": [
    "# Объединим похожие классы с учётом референсных (с правильным написанием)\n",
    "\n",
    "PREFERRED_SUBCATS = ['Программное обеспечение. Региональные ПТК', 'СПГУ. Несколько модулей']\n",
    "\n",
    "parent = {c: c for c in unique_classes}\n",
    "\n",
    "def find(x):\n",
    "    while parent[x] != x:\n",
    "        parent[x] = parent[parent[x]]\n",
    "        x = parent[x]\n",
    "    return x\n",
    "\n",
    "def union(a, b):\n",
    "    ra, rb = find(a), find(b)\n",
    "    if ra != rb:\n",
    "        parent[rb] = ra\n",
    "\n",
    "for cls, similars in similar_map.items():\n",
    "    for s in similars:\n",
    "        union(cls, s)\n",
    "\n",
    "clusters = {}\n",
    "for c in unique_classes:\n",
    "    root = find(c)\n",
    "    clusters.setdefault(root, []).append(c)\n",
    "\n",
    "# Выбор референсов\n",
    "counts = df['SUBCATEGORY'].value_counts()\n",
    "similar_mapping = {}\n",
    "\n",
    "for root, members in clusters.items():\n",
    "    # Проверка на user-preferred\n",
    "    preferred = None\n",
    "    for pref in PREFERRED_SUBCATS:\n",
    "        if pref in members:\n",
    "            preferred = pref\n",
    "            break\n",
    "    \n",
    "    if preferred:\n",
    "        rep = preferred\n",
    "    else:\n",
    "        # Самый частый класс в кластере\n",
    "        rep = max(members, key=lambda x: counts.get(x, 0))\n",
    "    \n",
    "    for m in members:\n",
    "        similar_mapping[m] = rep"
   ]
  },
  {
   "cell_type": "code",
   "execution_count": 1149,
   "id": "329d2175",
   "metadata": {},
   "outputs": [
    {
     "data": {
      "text/plain": [
       "35"
      ]
     },
     "execution_count": 1149,
     "metadata": {},
     "output_type": "execute_result"
    }
   ],
   "source": [
    "len(set(similar_mapping.values()))"
   ]
  },
  {
   "cell_type": "code",
   "execution_count": 1150,
   "id": "49c17dbf",
   "metadata": {},
   "outputs": [],
   "source": [
    "df['SUBCATEGORY_clean'] = df['SUBCATEGORY'].map(similar_mapping)"
   ]
  },
  {
   "cell_type": "code",
   "execution_count": 1151,
   "id": "11dbd099",
   "metadata": {},
   "outputs": [],
   "source": [
    "MIN_SAMPLES = 100\n",
    "\n",
    "# 2. Сливаем редкие классы\n",
    "counts = df['SUBCATEGORY_clean'].value_counts()\n",
    "rare_classes = counts[counts < MIN_SAMPLES].index\n",
    "\n",
    "rare_mapping = {}\n",
    "\n",
    "for cls, rep in similar_mapping.items():\n",
    "    if rep in rare_classes:\n",
    "        rare_mapping[cls] = \"Прочее\"\n",
    "    else:\n",
    "        rare_mapping[cls] = rep"
   ]
  },
  {
   "cell_type": "code",
   "execution_count": 1154,
   "id": "b8590d01",
   "metadata": {},
   "outputs": [],
   "source": [
    "df['SUBCATEGORY_clean'] = df['SUBCATEGORY_clean'].map(rare_mapping)"
   ]
  },
  {
   "cell_type": "code",
   "execution_count": 1192,
   "id": "f6e3b8e9",
   "metadata": {},
   "outputs": [
    {
     "data": {
      "text/plain": [
       "{'Авария',\n",
       " 'Доступ к ИСОД',\n",
       " 'Запрос на администрирование',\n",
       " 'Запрос на доработку',\n",
       " 'Запрос статуса',\n",
       " 'Консультация',\n",
       " 'Коррекция данных',\n",
       " 'Настройка ПО и оборудования',\n",
       " 'ОШС',\n",
       " 'Оборудование',\n",
       " 'Программное обеспечение',\n",
       " 'Программное обеспечение. Региональные ПТК',\n",
       " 'Прочее',\n",
       " 'СПГУ',\n",
       " 'СПГУ. Несколько модулей'}"
      ]
     },
     "execution_count": 1192,
     "metadata": {},
     "output_type": "execute_result"
    }
   ],
   "source": [
    "set(rare_mapping.values())"
   ]
  },
  {
   "cell_type": "code",
   "execution_count": 1158,
   "id": "34a867e6",
   "metadata": {},
   "outputs": [
    {
     "data": {
      "text/plain": [
       "SUBCATEGORY_clean\n",
       "Доступ к ИСОД                                252951\n",
       "Прочее                                       208118\n",
       "Запрос на администрирование                  105941\n",
       "Прочие вопросы                                83282\n",
       "Настройка ПО и оборудования                   15032\n",
       "Авария                                        11155\n",
       "Коррекция данных                               7076\n",
       "ОШС                                            5588\n",
       "Консультация                                   4410\n",
       "Программное обеспечение. Региональные ПТК      3776\n",
       "Запрос статуса                                 3575\n",
       "Программное обеспечение                        1817\n",
       "СПГУ. Несколько модулей                        1554\n",
       "Запрос на доработку                             925\n",
       "Оборудование                                    205\n",
       "СПГУ                                            182\n",
       "Инцидент                                        100\n",
       "Name: count, dtype: int64"
      ]
     },
     "execution_count": 1158,
     "metadata": {},
     "output_type": "execute_result"
    }
   ],
   "source": [
    "df['SUBCATEGORY_clean'].value_counts()"
   ]
  },
  {
   "cell_type": "markdown",
   "id": "5ffc841b",
   "metadata": {},
   "source": [
    "Объединим похожие классы, с которыми не справился левенштейн: \"Прочее\" и \"Прочие вопросы\", Инцидент и Авария:"
   ]
  },
  {
   "cell_type": "code",
   "execution_count": 1191,
   "id": "e7472081",
   "metadata": {},
   "outputs": [],
   "source": [
    "rare_mapping[\"Прочие вопросы\"] = \"Прочее\"\n",
    "rare_mapping[\"Инцидент\"] = \"Авария\"\n",
    "rare_mapping[\"СПГУ. Несколько модулей\"] = \"СПГУ\""
   ]
  },
  {
   "cell_type": "code",
   "execution_count": 1170,
   "id": "86584d76",
   "metadata": {},
   "outputs": [],
   "source": [
    "df['SUBCATEGORY_clean'] = df['SUBCATEGORY_clean'].map(rare_mapping)"
   ]
  },
  {
   "cell_type": "code",
   "execution_count": 1171,
   "id": "c6eca957",
   "metadata": {},
   "outputs": [
    {
     "data": {
      "text/plain": [
       "SUBCATEGORY_clean\n",
       "Прочее                                       291400\n",
       "Доступ к ИСОД                                252951\n",
       "Запрос на администрирование                  105941\n",
       "Настройка ПО и оборудования                   15032\n",
       "Авария                                        11255\n",
       "Коррекция данных                               7076\n",
       "ОШС                                            5588\n",
       "Консультация                                   4410\n",
       "Программное обеспечение. Региональные ПТК      3776\n",
       "Запрос статуса                                 3575\n",
       "Программное обеспечение                        1817\n",
       "СПГУ                                           1736\n",
       "Запрос на доработку                             925\n",
       "Оборудование                                    205\n",
       "Name: count, dtype: int64"
      ]
     },
     "execution_count": 1171,
     "metadata": {},
     "output_type": "execute_result"
    }
   ],
   "source": [
    "df['SUBCATEGORY_clean'].value_counts()"
   ]
  },
  {
   "cell_type": "code",
   "execution_count": null,
   "id": "3a4d27a3",
   "metadata": {},
   "outputs": [],
   "source": [
    "# сохраняем словарик\n",
    "import json\n",
    "with open(\"../data/processed/subcategory_mapping.json\", \"w\", encoding=\"utf-8\") as f:\n",
    "    json.dump(rare_mapping, f, ensure_ascii=False, indent=2)"
   ]
  },
  {
   "cell_type": "code",
   "execution_count": 1181,
   "id": "df470bd0",
   "metadata": {},
   "outputs": [],
   "source": [
    "import matplotlib.pyplot as plt"
   ]
  },
  {
   "cell_type": "code",
   "execution_count": 1182,
   "id": "38553c34",
   "metadata": {},
   "outputs": [
    {
     "data": {
      "text/plain": [
       "<Axes: title={'center': 'После очистки'}, xlabel='SUBCATEGORY_clean'>"
      ]
     },
     "execution_count": 1182,
     "metadata": {},
     "output_type": "execute_result"
    },
    {
     "data": {
      "image/png": "[encoded data removed]",
      "text/plain": [
       "<Figure size 1800x600 with 2 Axes>"
      ]
     },
     "metadata": {},
     "output_type": "display_data"
    }
   ],
   "source": [
    "fig, axes = plt.subplots(1, 2, figsize=(18, 6))\n",
    "\n",
    "counts.plot(kind='bar', ax=axes[0], title=\"До очистки\")\n",
    "df['SUBCATEGORY_clean'].value_counts().plot(kind='bar', ax=axes[1], title=\"После очистки\")"
   ]
  },
  {
   "cell_type": "code",
   "execution_count": 1188,
   "id": "0aa58f44",
   "metadata": {},
   "outputs": [],
   "source": [
    "# Сохраняем результат\n",
    "df.to_csv(\"../data/processed/cleaned_dataset.csv\", index=False)"
   ]
  }
 ],
 "metadata": {
  "kernelspec": {
   "display_name": "Python 3",
   "language": "python",
   "name": "python3"
  },
  "language_info": {
   "codemirror_mode": {
    "name": "ipython",
    "version": 3
   },
   "file_extension": ".py",
   "mimetype": "text/x-python",
   "name": "python",
   "nbconvert_exporter": "python",
   "pygments_lexer": "ipython3",
   "version": "3.12.3"
  }
 },
 "nbformat": 4,
 "nbformat_minor": 5
}
