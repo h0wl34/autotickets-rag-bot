{
 "cells": [
  {
   "cell_type": "code",
   "execution_count": 1,
   "id": "98552dcd",
   "metadata": {},
   "outputs": [],
   "source": [
    "import numpy as np"
   ]
  },
  {
   "cell_type": "code",
   "execution_count": 6,
   "id": "398f285e",
   "metadata": {},
   "outputs": [],
   "source": [
    "a = np.load(\"../data/features/cat_features.npz\")"
   ]
  },
  {
   "cell_type": "code",
   "execution_count": 12,
   "id": "6cac0927",
   "metadata": {},
   "outputs": [
    {
     "name": "stdout",
     "output_type": "stream",
     "text": [
      "22\n",
      "862\n",
      "5\n"
     ]
    }
   ],
   "source": [
    "for i in range(a[\"features\"].shape[1]):\n",
    "    print(len(np.unique(a[\"features\"][:, i])))"
   ]
  },
  {
   "cell_type": "code",
   "execution_count": 1,
   "id": "a22205db",
   "metadata": {},
   "outputs": [],
   "source": [
    "import torch_directml"
   ]
  },
  {
   "cell_type": "code",
   "execution_count": 31,
   "id": "3db8a05b",
   "metadata": {},
   "outputs": [],
   "source": [
    "import sys\n",
    "from pathlib import Path\n",
    "sys.path.append(str(Path.cwd().parent))\n",
    "from src.data_loader import load_features\n",
    "from src.trainers import train_on_split\n",
    "\n",
    "import pandas as pd\n",
    "import numpy as np\n",
    "from src.model_utils import load_model_bundle\n",
    "from src.data_loader import load_split, load_features, load_target\n",
    "from src.config import MODELS_DIR, TARGETS\n",
    "from sklearn.model_selection import train_test_split\n",
    "from sklearn.preprocessing import LabelEncoder, OrdinalEncoder\n",
    "from pathlib import Path\n",
    "import sys\n",
    "import joblib\n",
    "from sklearn.metrics import classification_report\n",
    "from src.config import DEFAULT_FEATURES\n"
   ]
  },
  {
   "cell_type": "code",
   "execution_count": 9,
   "id": "c5f2d76d",
   "metadata": {},
   "outputs": [],
   "source": [
    "tfidfn = np.load(\"../data/features/question_tfidf.npz\", allow_pickle=True)"
   ]
  },
  {
   "cell_type": "code",
   "execution_count": 22,
   "id": "d0f000e9",
   "metadata": {},
   "outputs": [
    {
     "data": {
      "text/plain": [
       "(918476, 8000)"
      ]
     },
     "execution_count": 22,
     "metadata": {},
     "output_type": "execute_result"
    }
   ],
   "source": [
    "tfidfn['features'].item().shape"
   ]
  },
  {
   "cell_type": "code",
   "execution_count": 33,
   "id": "c736303a",
   "metadata": {},
   "outputs": [
    {
     "ename": "IndexError",
     "evalue": "index 123332 is out of bounds for axis 0 with size 1",
     "output_type": "error",
     "traceback": [
      "\u001b[31m---------------------------------------------------------------------------\u001b[39m",
      "\u001b[31mIndexError\u001b[39m                                Traceback (most recent call last)",
      "\u001b[36mCell\u001b[39m\u001b[36m \u001b[39m\u001b[32mIn[33]\u001b[39m\u001b[32m, line 9\u001b[39m\n\u001b[32m      7\u001b[39m x_cat = load_features([\u001b[33m'\u001b[39m\u001b[33mcat_features.npz\u001b[39m\u001b[33m'\u001b[39m], output_format=\u001b[33m\"\u001b[39m\u001b[33mdense\u001b[39m\u001b[33m\"\u001b[39m)[train_split]\n\u001b[32m      8\u001b[39m x_time = load_features([\u001b[33m'\u001b[39m\u001b[33mtime_features.npz\u001b[39m\u001b[33m'\u001b[39m], output_format=\u001b[33m\"\u001b[39m\u001b[33mdense\u001b[39m\u001b[33m\"\u001b[39m)[train_split]\n\u001b[32m----> \u001b[39m\u001b[32m9\u001b[39m x_tfidf = \u001b[43mload_features\u001b[49m\u001b[43m(\u001b[49m\u001b[43m[\u001b[49m\u001b[33;43m'\u001b[39;49m\u001b[33;43mquestion_tfidf.npz\u001b[39;49m\u001b[33;43m'\u001b[39;49m\u001b[43m]\u001b[49m\u001b[43m,\u001b[49m\u001b[43m \u001b[49m\u001b[43moutput_format\u001b[49m\u001b[43m=\u001b[49m\u001b[33;43m\"\u001b[39;49m\u001b[33;43mdense\u001b[39;49m\u001b[33;43m\"\u001b[39;49m\u001b[43m)\u001b[49m\u001b[43m[\u001b[49m\u001b[43mtrain_split\u001b[49m\u001b[43m]\u001b[49m\n",
      "\u001b[31mIndexError\u001b[39m: index 123332 is out of bounds for axis 0 with size 1"
     ]
    }
   ],
   "source": [
    "features = DEFAULT_FEATURES\n",
    "target_col = TARGETS[\"subcategory\"]\n",
    "\n",
    "train_split = load_split(\"train\")\n",
    "val_split = load_split(\"val\")\n",
    "\n",
    "x_cat = load_features(['cat_features.npz'], output_format=\"dense\")[train_split]\n",
    "x_time = load_features(['time_features.npz'], output_format=\"dense\")[train_split]\n",
    "x_tfidf = load_features(['question_tfidf.npz'], output_format=\"dense\")[train_split]\n"
   ]
  }
 ],
 "metadata": {
  "kernelspec": {
   "display_name": "nlp_course",
   "language": "python",
   "name": "python3"
  },
  "language_info": {
   "codemirror_mode": {
    "name": "ipython",
    "version": 3
   },
   "file_extension": ".py",
   "mimetype": "text/x-python",
   "name": "python",
   "nbconvert_exporter": "python",
   "pygments_lexer": "ipython3",
   "version": "3.12.3"
  }
 },
 "nbformat": 4,
 "nbformat_minor": 5
}
