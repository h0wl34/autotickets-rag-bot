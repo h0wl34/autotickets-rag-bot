{
 "cells": [
  {
   "cell_type": "code",
   "execution_count": 1,
   "id": "98552dcd",
   "metadata": {},
   "outputs": [],
   "source": [
    "import numpy as np\n"
   ]
  },
  {
   "cell_type": "code",
   "execution_count": 2,
   "id": "0090c5f2",
   "metadata": {},
   "outputs": [],
   "source": [
    "import pandas as pd\n",
    "df=  pd.read_csv('../data/processed/cleaned_dataset.csv')\n"
   ]
  },
  {
   "cell_type": "code",
   "execution_count": 3,
   "id": "9c4ad90a",
   "metadata": {},
   "outputs": [],
   "source": [
    "import os\n",
    "os.chdir('..')"
   ]
  },
  {
   "cell_type": "code",
   "execution_count": null,
   "id": "ddc1296a",
   "metadata": {},
   "outputs": [],
   "source": [
    "from src.preprocessing.feature_engineering import FeatureEngineer"
   ]
  },
  {
   "cell_type": "code",
   "execution_count": 6,
   "id": "59e82eed",
   "metadata": {},
   "outputs": [],
   "source": [
    "cfg = {\n",
    "    'cat_encoders' : {\n",
    "        'S_NAME': r'C:\\Users\\mew\\Projects\\autotickets-rag-bot\\models\\vectorizers\\ordinal_encoder_S_NAME.pkl',\n",
    "        'REG': r'C:\\Users\\mew\\Projects\\autotickets-rag-bot\\models\\vectorizers\\ordinal_encoder_REG.pkl',\n",
    "        'SOURCE': r'C:\\Users\\mew\\Projects\\autotickets-rag-bot\\models\\vectorizers\\ordinal_encoder_SOURCE.pkl'\n",
    "        },\n",
    "    'embedding_model_path': './models/embeddings/deepvk_USER-bge-m3',\n",
    "    'sensitive_patterns': {\n",
    "        \"EMAIL\": r'\\b[A-Za-z0-9._%+-]+@(?:[A-Za-z0-9-]+\\.)+[A-Za-z]{2,}\\b|<\".+?\"@[^>]+>',\n",
    "        \"INN\": r'(?i)инн\\s*\\d{5,12}',\n",
    "        \"PHONE\": r'\\b(?:\\+7|8)?[\\s-]?\\(?\\d{3,4}\\)?[\\s-]?\\d{2,3}[\\s-]?\\d{2}[\\s-]?\\d{2}(?:\\s*\\(доб\\.\\s*\\d+\\))?\\b',\n",
    "        # \"PHONE_EXT\": r'\\b8\\s?\\d{3,4}[\\s-]?\\d{2}[\\s-]?\\d{2}[\\s-]?\\d{2}(?:\\s*\\(доб\\.\\s*\\d+\\))?',\n",
    "        \"VIN\": r'\\b[A-HJ-NPR-Z0-9]{17}\\b',\n",
    "        \"INCEDENT\": r'\\bIM\\d{8-12}\\b',\n",
    "        \"REG_NUMBER\": r'\\b[АВЕКМНОРСТУХ]{1,3}\\d{3,4}[АВЕКМНОРСТУХ]{2}\\b',\n",
    "        \"CASE_NO\": r'\\b(?:[CcSs]D|T)\\d{6,10}\\b',\n",
    "        \"APPEAL_NO\": r'\\b\\d/\\d{9,12}\\b',\n",
    "        \"DOC_NO\": r'№\\s?\\d{1,6}([/\\\\-]?\\d{1,6})?([А-ЯA-Z])?',\n",
    "        \"LONG_ID\": r'\\b\\d{9,}\\b|\\b[a-f0-9]{32,128}\\b|(?:UID|GlndID|GUID)[: ]?[0-9a-fA-F\\-]{16,128}',\n",
    "        \"IP\": r'\\b(?:\\d{1,3}\\.){3}\\d{1,3}\\b',\n",
    "        \"DATE\": r'\\b\\d{2}[./-]\\d{2}[./-]\\d{2,4}(?:\\s?г\\.?)?',\n",
    "        \"FIO\": r'\\b[А-ЯЁ][а-яё]+ [А-ЯЁ]\\.[А-ЯЁ]\\.(?=[\\s,.)/]|$)',\n",
    "        \"USERNAME\": r'\\b[a-zA-Z][a-zA-Z0-9]{3,15}\\d\\b',\n",
    "        \"TOKEN\": r'\\b[a-f0-9]{16,64}\\b|\\b(?=.*[A-Z])(?=.*[a-z])(?=.*\\d)[A-Za-z0-9]{12,64}\\b',\n",
    "        \"URL\": r'https?://[^\\s]+',\n",
    "    },\n",
    "    'categorical': ['S_NAME', 'REG', 'SOURCE'],\n",
    "    'time': ['OPEN_TIME_'],\n",
    "    'text_col': 'QUESTION_clean'\n",
    "}\n",
    "fe = FeatureEngineer(cfg)"
   ]
  },
  {
   "cell_type": "code",
   "execution_count": 5,
   "id": "15c104c9",
   "metadata": {},
   "outputs": [
    {
     "data": {
      "text/plain": [
       "0                                      сброс пароля УЗ\n",
       "1                                            [NO TEXT]\n",
       "2                                            [NO TEXT]\n",
       "3               Легалов. Удаление должностной позиции.\n",
       "4    не работает модуль \"Розыск ТС и интерпол\", вых...\n",
       "5    Доброго времени суток. С праздником. Прошу вне...\n",
       "6    Здравствуйте. Невозможно в резолюции на поступ...\n",
       "7                                            [NO TEXT]\n",
       "8    Заявка на предоставление доступа в СО ДЧ сотру...\n",
       "9    обратилась гр. [FIO], [DATE]р., по вопросу обм...\n",
       "Name: QUESTION_clean, dtype: object"
      ]
     },
     "execution_count": 5,
     "metadata": {},
     "output_type": "execute_result"
    }
   ],
   "source": [
    "df[:10]['QUESTION_clean']"
   ]
  },
  {
   "cell_type": "code",
   "execution_count": 28,
   "id": "918f7818",
   "metadata": {},
   "outputs": [],
   "source": [
    "a = fe.transform(df[:10])"
   ]
  },
  {
   "cell_type": "code",
   "execution_count": null,
   "id": "dbe010f7",
   "metadata": {},
   "outputs": [
    {
     "data": {
      "text/plain": [
       "Index(['S_NAME', 'QUESTION', 'ANSWER', 'OPEN_TIME_', 'RESOLVE_TIME_',\n",
       "       'CLOSE_TIME_', 'ATC_NEXT_BREACH_', 'TITLE', 'SUBCATEGORY', 'REG',\n",
       "       'PRIORITY', 'AVARIYA', 'SOURCE', 'QUESTION_clean', 'ANSWER_clean',\n",
       "       'SUBCATEGORY_clean', 'S_NAME_enc', 'REG_enc', 'SOURCE_enc',\n",
       "       'OPEN_TIME__hour_sin', 'OPEN_TIME__hour_cos',\n",
       "       'OPEN_TIME__day_of_week_sin', 'OPEN_TIME__day_of_week_cos',\n",
       "       'is_weekend', 'OPEN_TIME__day_of_month_sin',\n",
       "       'OPEN_TIME__day_of_month_cos', 'QUESTION_clean_emb', 'HAS_EMAIL',\n",
       "       'HAS_INN', 'HAS_PHONE', 'HAS_VIN', 'HAS_INCEDENT', 'HAS_REG_NUMBER',\n",
       "       'HAS_CASE_NO', 'HAS_APPEAL_NO', 'HAS_DOC_NO', 'HAS_LONG_ID', 'HAS_IP',\n",
       "       'HAS_DATE', 'HAS_FIO', 'HAS_USERNAME', 'HAS_TOKEN', 'HAS_URL',\n",
       "       'HAS_TEXT'],\n",
       "      dtype='object')"
      ]
     },
     "execution_count": 29,
     "metadata": {},
     "output_type": "execute_result"
    }
   ],
   "source": [
    "fe.to_numpy(fe.transform(df[:1]), [''])"
   ]
  },
  {
   "cell_type": "code",
   "execution_count": 2,
   "id": "6033a8dd",
   "metadata": {},
   "outputs": [],
   "source": [
    "pp = np.load('../data/splits/train.npy')"
   ]
  },
  {
   "cell_type": "code",
   "execution_count": 3,
   "id": "395a58ad",
   "metadata": {},
   "outputs": [
    {
     "data": {
      "text/plain": [
       "(535399,)"
      ]
     },
     "execution_count": 3,
     "metadata": {},
     "output_type": "execute_result"
    }
   ],
   "source": [
    "pp.shape"
   ]
  },
  {
   "cell_type": "code",
   "execution_count": 6,
   "id": "398f285e",
   "metadata": {},
   "outputs": [],
   "source": [
    "a = np.load(\"../data/features/cat_features.npz\")"
   ]
  },
  {
   "cell_type": "code",
   "execution_count": 12,
   "id": "6cac0927",
   "metadata": {},
   "outputs": [
    {
     "name": "stdout",
     "output_type": "stream",
     "text": [
      "22\n",
      "862\n",
      "5\n"
     ]
    }
   ],
   "source": [
    "for i in range(a[\"features\"].shape[1]):\n",
    "    print(len(np.unique(a[\"features\"][:, i])))"
   ]
  },
  {
   "cell_type": "code",
   "execution_count": 1,
   "id": "a22205db",
   "metadata": {},
   "outputs": [],
   "source": [
    "import torch_directml"
   ]
  },
  {
   "cell_type": "code",
   "execution_count": 31,
   "id": "3db8a05b",
   "metadata": {},
   "outputs": [],
   "source": [
    "import sys\n",
    "from pathlib import Path\n",
    "sys.path.append(str(Path.cwd().parent))\n",
    "from src.data_loader import load_features\n",
    "from src.trainers import train_on_split\n",
    "\n",
    "import pandas as pd\n",
    "import numpy as np\n",
    "from src.model_utils import load_model_bundle\n",
    "from src.data_loader import load_split, load_features, load_target\n",
    "from src.config import MODELS_DIR, TARGETS\n",
    "from sklearn.model_selection import train_test_split\n",
    "from sklearn.preprocessing import LabelEncoder, OrdinalEncoder\n",
    "from pathlib import Path\n",
    "import sys\n",
    "import joblib\n",
    "from sklearn.metrics import classification_report\n",
    "from src.config import DEFAULT_FEATURES\n"
   ]
  },
  {
   "cell_type": "code",
   "execution_count": 9,
   "id": "c5f2d76d",
   "metadata": {},
   "outputs": [],
   "source": [
    "tfidfn = np.load(\"../data/features/question_tfidf.npz\", allow_pickle=True)"
   ]
  },
  {
   "cell_type": "code",
   "execution_count": 22,
   "id": "d0f000e9",
   "metadata": {},
   "outputs": [
    {
     "data": {
      "text/plain": [
       "(918476, 8000)"
      ]
     },
     "execution_count": 22,
     "metadata": {},
     "output_type": "execute_result"
    }
   ],
   "source": [
    "tfidfn['features'].item().shape"
   ]
  },
  {
   "cell_type": "code",
   "execution_count": 33,
   "id": "c736303a",
   "metadata": {},
   "outputs": [
    {
     "ename": "IndexError",
     "evalue": "index 123332 is out of bounds for axis 0 with size 1",
     "output_type": "error",
     "traceback": [
      "\u001b[31m---------------------------------------------------------------------------\u001b[39m",
      "\u001b[31mIndexError\u001b[39m                                Traceback (most recent call last)",
      "\u001b[36mCell\u001b[39m\u001b[36m \u001b[39m\u001b[32mIn[33]\u001b[39m\u001b[32m, line 9\u001b[39m\n\u001b[32m      7\u001b[39m x_cat = load_features([\u001b[33m'\u001b[39m\u001b[33mcat_features.npz\u001b[39m\u001b[33m'\u001b[39m], output_format=\u001b[33m\"\u001b[39m\u001b[33mdense\u001b[39m\u001b[33m\"\u001b[39m)[train_split]\n\u001b[32m      8\u001b[39m x_time = load_features([\u001b[33m'\u001b[39m\u001b[33mtime_features.npz\u001b[39m\u001b[33m'\u001b[39m], output_format=\u001b[33m\"\u001b[39m\u001b[33mdense\u001b[39m\u001b[33m\"\u001b[39m)[train_split]\n\u001b[32m----> \u001b[39m\u001b[32m9\u001b[39m x_tfidf = \u001b[43mload_features\u001b[49m\u001b[43m(\u001b[49m\u001b[43m[\u001b[49m\u001b[33;43m'\u001b[39;49m\u001b[33;43mquestion_tfidf.npz\u001b[39;49m\u001b[33;43m'\u001b[39;49m\u001b[43m]\u001b[49m\u001b[43m,\u001b[49m\u001b[43m \u001b[49m\u001b[43moutput_format\u001b[49m\u001b[43m=\u001b[49m\u001b[33;43m\"\u001b[39;49m\u001b[33;43mdense\u001b[39;49m\u001b[33;43m\"\u001b[39;49m\u001b[43m)\u001b[49m\u001b[43m[\u001b[49m\u001b[43mtrain_split\u001b[49m\u001b[43m]\u001b[49m\n",
      "\u001b[31mIndexError\u001b[39m: index 123332 is out of bounds for axis 0 with size 1"
     ]
    }
   ],
   "source": [
    "features = DEFAULT_FEATURES\n",
    "target_col = TARGETS[\"subcategory\"]\n",
    "\n",
    "train_split = load_split(\"train\")\n",
    "val_split = load_split(\"val\")\n",
    "\n",
    "x_cat = load_features(['cat_features.npz'], output_format=\"dense\")[train_split]\n",
    "x_time = load_features(['time_features.npz'], output_format=\"dense\")[train_split]\n",
    "x_tfidf = load_features(['question_tfidf.npz'], output_format=\"dense\")[train_split]\n"
   ]
  }
 ],
 "metadata": {
  "kernelspec": {
   "display_name": "nlp_course",
   "language": "python",
   "name": "python3"
  },
  "language_info": {
   "codemirror_mode": {
    "name": "ipython",
    "version": 3
   },
   "file_extension": ".py",
   "mimetype": "text/x-python",
   "name": "python",
   "nbconvert_exporter": "python",
   "pygments_lexer": "ipython3",
   "version": "3.12.3"
  }
 },
 "nbformat": 4,
 "nbformat_minor": 5
}
