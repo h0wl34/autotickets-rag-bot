{
 "cells": [
  {
   "cell_type": "code",
   "execution_count": 31,
   "id": "6074cabe",
   "metadata": {},
   "outputs": [],
   "source": [
    "import pandas as pd\n",
    "import numpy as np\n",
    "from sklearn.preprocessing import LabelEncoder\n",
    "from sklearn.preprocessing import OrdinalEncoder\n",
    "from sklearn.feature_extraction.text import TfidfVectorizer\n",
    "from sklearn.model_selection import train_test_split\n",
    "import joblib\n",
    "import scipy"
   ]
  },
  {
   "cell_type": "code",
   "execution_count": 58,
   "id": "fd2f3087",
   "metadata": {},
   "outputs": [
    {
     "data": {
      "text/plain": [
       "Index(['S_NAME', 'QUESTION', 'ANSWER', 'OPEN_TIME_', 'RESOLVE_TIME_',\n",
       "       'CLOSE_TIME_', 'ATC_NEXT_BREACH_', 'TITLE', 'SUBCATEGORY', 'REG',\n",
       "       'PRIORITY', 'AVARIYA', 'SOURCE', 'QUESTION_FULL', 'SUBCATEGORY_CLEAN'],\n",
       "      dtype='object')"
      ]
     },
     "execution_count": 58,
     "metadata": {},
     "output_type": "execute_result"
    }
   ],
   "source": [
    "df = pd.read_csv(\"../data/processed/cleaned_dataset.csv\")\n",
    "df.columns"
   ]
  },
  {
   "cell_type": "markdown",
   "id": "705b987f",
   "metadata": {},
   "source": [
    "### Сплит данных"
   ]
  },
  {
   "cell_type": "code",
   "execution_count": 59,
   "id": "fc25eb92",
   "metadata": {},
   "outputs": [],
   "source": [
    "# Будем стратифицировать по всем таргетам сразу\n",
    "df['stratify_key'] = df['SUBCATEGORY_CLEAN'].astype(str) + '_' + df['PRIORITY'].astype(str) + df['AVARIYA'].astype(str)\n",
    "counts = df['stratify_key'].value_counts()\n",
    "rare_classes = counts[counts < 20].index\n",
    "df['stratify_key'] = df['stratify_key'].replace(rare_classes, 'OTHER')\n",
    "df['stratify_key'].value_counts()\n",
    "\n",
    "all_ids = df.index.values\n",
    "train_val_ids, test_ids = train_test_split(\n",
    "    all_ids,\n",
    "    test_size=0.15,\n",
    "    random_state=42,\n",
    "    stratify=df['stratify_key'],\n",
    "    shuffle=True\n",
    ")\n",
    "\n",
    "# Subset stratify_key to the train_val_ids\n",
    "train_val_stratify = df.loc[train_val_ids, 'stratify_key']\n",
    "\n",
    "train_ids, val_ids = train_test_split(\n",
    "    train_val_ids,\n",
    "    test_size=0.15,\n",
    "    random_state=42,\n",
    "    stratify=train_val_stratify,\n",
    "    shuffle=True\n",
    ")\n",
    "\n",
    "np.save(\"../data/splits/train.npy\", train_ids)\n",
    "np.save(\"../data/splits/val.npy\", val_ids)\n",
    "np.save(\"../data/splits/test.npy\", test_ids)"
   ]
  },
  {
   "cell_type": "code",
   "execution_count": 73,
   "id": "01e56b07",
   "metadata": {},
   "outputs": [
    {
     "data": {
      "text/plain": [
       "AVARIYA\n",
       "Нет    768884\n",
       "Да      11820\n",
       "Name: count, dtype: int64"
      ]
     },
     "execution_count": 73,
     "metadata": {},
     "output_type": "execute_result"
    }
   ],
   "source": [
    "df.iloc[train_val_ids]['AVARIYA'].value_counts()"
   ]
  },
  {
   "cell_type": "markdown",
   "id": "bc291ad4",
   "metadata": {},
   "source": [
    "## Feature extraction"
   ]
  },
  {
   "cell_type": "markdown",
   "id": "4331bf05",
   "metadata": {},
   "source": [
    "### Текстовые фичи"
   ]
  },
  {
   "cell_type": "code",
   "execution_count": null,
   "id": "1adeaa0e",
   "metadata": {},
   "outputs": [],
   "source": [
    "# TF-ID\n",
    "tfidf = TfidfVectorizer(\n",
    "    max_features=8000,  # можно увеличить для точности\n",
    "    ngram_range=(1,2),\n",
    "    min_df=5\n",
    ")\n",
    "\n",
    "# Используем train split чтобы не было утечки\n",
    "tfidf.fit(df.loc[train_ids, 'QUESTION_FULL'])\n",
    "X_question_full = tfidf.transform(df['QUESTION_FULL'])"
   ]
  },
  {
   "cell_type": "code",
   "execution_count": null,
   "id": "e4740fbe",
   "metadata": {},
   "outputs": [],
   "source": [
    "# def build_sentence_embeddings(df, column, model_path, save_path=None):\n",
    "#     model = SentenceTransformer(model_path)\n",
    "#     sentences = df[column].tolist()\n",
    "#     embeddings = model.encode(sentences, batch_size=64, show_progress_bar=True)\n",
    "    \n",
    "#     if save_path:\n",
    "#         np.savez_compressed(save_path, embeddings)\n",
    "#     return embeddings"
   ]
  },
  {
   "cell_type": "code",
   "execution_count": null,
   "id": "7d86c40c",
   "metadata": {},
   "outputs": [],
   "source": [
    "# build_sentence_embeddings(df, 'QUESTION_FULL', model_path='../models/embeddings/deepvk_USER-bge-m3', save_path='../data/features/question_bge_m3.npz')"
   ]
  },
  {
   "cell_type": "markdown",
   "id": "8ce57b23",
   "metadata": {},
   "source": [
    "### Категориальные фичи"
   ]
  },
  {
   "cell_type": "code",
   "execution_count": 23,
   "id": "220feab2",
   "metadata": {},
   "outputs": [],
   "source": [
    "ord_encoders = {}\n",
    "\n",
    "cat_cols = ['S_NAME', 'REG', 'SOURCE']\n",
    "\n",
    "for col in cat_cols:\n",
    "    oe = OrdinalEncoder(handle_unknown=\"use_encoded_value\", unknown_value=-1)\n",
    "    oe.fit(df.loc[train_ids, [col]]) \n",
    "    df[col + '_enc'] = oe.transform(df[[col]]).flatten()  # Transform and flatten to 1D\n",
    "    ord_encoders[col] = oe\n",
    "\n",
    "X_cat = df[[c + '_enc' for c in cat_cols]].values"
   ]
  },
  {
   "cell_type": "markdown",
   "id": "4046d7f1",
   "metadata": {},
   "source": [
    "### Временные фичи"
   ]
  },
  {
   "cell_type": "code",
   "execution_count": 24,
   "id": "59d4c801",
   "metadata": {},
   "outputs": [],
   "source": [
    "for col in ['OPEN_TIME_', 'RESOLVE_TIME_', 'CLOSE_TIME_', 'ATC_NEXT_BREACH_']:\n",
    "    df[col] = pd.to_datetime(df[col], errors='coerce')\n",
    "\n",
    "# Encoding cyclical features\n",
    "hour = df['OPEN_TIME_'].dt.hour\n",
    "df['hour_sin'] = np.sin(hour * (2. * np.pi / 24.))\n",
    "df['hour_cos'] = np.cos(hour * (2. * np.pi / 24.))\n",
    "\n",
    "day_of_week = df['OPEN_TIME_'].dt.dayofweek\n",
    "df['day_of_week_sin'] = np.sin(day_of_week * (2. * np.pi / 7.))\n",
    "df['day_of_week_cos'] = np.cos(day_of_week * (2. * np.pi / 7.))\n",
    "\n",
    "df['is_weekend'] = (day_of_week >= 5).astype(int)\n",
    "\n",
    "day_of_month = df['OPEN_TIME_'].dt.day\n",
    "df['day_of_month_sin'] = np.sin(day_of_month * (2. * np.pi / 31.))\n",
    "df['day_of_month_cos'] = np.cos(day_of_month * (2. * np.pi / 31.))\n",
    "\n",
    "X_time = df[['day_of_week_sin', 'day_of_week_cos', 'hour_sin', 'hour_cos', 'day_of_month_sin', 'day_of_month_cos', 'is_weekend']].fillna(0).values"
   ]
  },
  {
   "cell_type": "markdown",
   "id": "f0335d40",
   "metadata": {},
   "source": [
    "### Таргеты"
   ]
  },
  {
   "cell_type": "code",
   "execution_count": 27,
   "id": "6d269370",
   "metadata": {},
   "outputs": [],
   "source": [
    "target_cols = ['SUBCATEGORY_CLEAN', 'PRIORITY', 'AVARIYA']\n",
    "targets = df[target_cols]\n",
    "\n",
    "label_encoders = {}\n",
    "\n",
    "for col in target_cols:\n",
    "    le = LabelEncoder()\n",
    "    le.fit(df.loc[train_ids, col])\n",
    "    classes = le.classes_\n",
    "    df[f'{col}_processed'] = df[col].apply(lambda x: np.where(classes == x)[0][0] if x in classes else -1)\n",
    "    df[col + '_enc'] = le.transform(df[col])\n",
    "    label_encoders[col] = le\n",
    "\n",
    "y = df[[c + '_enc' for c in target_cols]]"
   ]
  },
  {
   "cell_type": "markdown",
   "id": "3e430741",
   "metadata": {},
   "source": [
    "### Сохраняем фичи, таргеты и векторизаторы"
   ]
  },
  {
   "cell_type": "code",
   "execution_count": null,
   "id": "fa405f24",
   "metadata": {},
   "outputs": [],
   "source": [
    "\n",
    "np.savez_compressed(\"../data/features/question_tfidf.npz\", features=X_question_full, ids=df.index.values)\n",
    "np.savez_compressed('../data/features/cat_features.npz', features=X_cat, ids=df.index.values)\n",
    "np.savez_compressed('../data/features/time_features.npz', features=X_time, ids=df.index.values)\n",
    "\n",
    "y.to_csv('../data/targets/targets.csv', index=False)\n",
    "\n",
    "joblib.dump(tfidf, '../models/vectorizers/tfidf_vectorizer.pkl')\n",
    "for col, le in label_encoders.items():\n",
    "    joblib.dump(le, f'../models/vectorizers/label_encoder_{col}.pkl')\n",
    "for col, oe in ord_encoders.items():\n",
    "    joblib.dump(oe, f'../models/vectorizers/ordinal_encoder_{col}.pkl')"
   ]
  },
  {
   "cell_type": "markdown",
   "id": "5fb13aa9",
   "metadata": {},
   "source": [
    "Сохраним текстовые фичи для получения эмбеддингов позднее:"
   ]
  },
  {
   "cell_type": "code",
   "execution_count": null,
   "id": "4b7ed392",
   "metadata": {},
   "outputs": [],
   "source": [
    "question_fulls = df['QUESTION_FULL']\n",
    "titles = df['TITLE']\n",
    "anwers = df['ANSWER']\n",
    "\n",
    "# question_fulls.to_csv('../torch_container/data/input/question_texts.csv', index=False)\n",
    "# titles.to_csv('../torch_container/data/input/title_texts.csv', index=False)\n",
    "anwers.to_csv('../torch_container/data/input/answer_texts.csv', index=False)"
   ]
  },
  {
   "cell_type": "markdown",
   "id": "90eb463b",
   "metadata": {},
   "source": [
    "Проиндексируем эмбеддинги:"
   ]
  },
  {
   "cell_type": "code",
   "execution_count": 46,
   "id": "653346fd",
   "metadata": {},
   "outputs": [],
   "source": [
    "question_bge = np.load('../data/features/question_bge_m3.npy')\n",
    "title_bge = np.load('../data/features/title_bge_m3.npy')\n",
    "answer_bge = np.load('../data/features/answer_bge_m3.npy')"
   ]
  },
  {
   "cell_type": "code",
   "execution_count": 47,
   "id": "dd757ce3",
   "metadata": {},
   "outputs": [],
   "source": [
    "np.savez('../data/features/question_bge_m3.npz', features=question_bge, ids=df.index.values)\n",
    "np.savez('../data/features/title_bge_m3.npz', features=title_bge, ids=df.index.values)\n",
    "np.savez('../data/features/answer_bge_m3.npz', features=answer_bge, ids=df.index.values)"
   ]
  },
  {
   "cell_type": "code",
   "execution_count": 29,
   "id": "c1d25e52",
   "metadata": {},
   "outputs": [],
   "source": [
    "timef = np.load('../data/features/time_features.npz')\n",
    "catf = np.load('../data/features/cat_features.npz')"
   ]
  },
  {
   "cell_type": "code",
   "execution_count": 31,
   "id": "c6b0099d",
   "metadata": {},
   "outputs": [
    {
     "data": {
      "text/plain": [
       "(919, 7)"
      ]
     },
     "execution_count": 31,
     "metadata": {},
     "output_type": "execute_result"
    }
   ],
   "source": [
    "timef['features'][::1000].shape\n",
    "# catf['features']"
   ]
  },
  {
   "cell_type": "code",
   "execution_count": 5,
   "id": "c778ed13",
   "metadata": {},
   "outputs": [],
   "source": [
    "tfidfn = np.load(\"../data/features/question_tfidf.npz\")"
   ]
  },
  {
   "cell_type": "code",
   "execution_count": 13,
   "id": "ab60cea5",
   "metadata": {},
   "outputs": [],
   "source": [
    "import sys\n",
    "from pathlib import Path\n",
    "sys.path.append(str(Path.cwd().parent))\n",
    "from src.data_loader import load_features"
   ]
  }
 ],
 "metadata": {
  "kernelspec": {
   "display_name": "Python 3",
   "language": "python",
   "name": "python3"
  },
  "language_info": {
   "codemirror_mode": {
    "name": "ipython",
    "version": 3
   },
   "file_extension": ".py",
   "mimetype": "text/x-python",
   "name": "python",
   "nbconvert_exporter": "python",
   "pygments_lexer": "ipython3",
   "version": "3.12.3"
  }
 },
 "nbformat": 4,
 "nbformat_minor": 5
}
