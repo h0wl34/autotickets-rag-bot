{
 "cells": [
  {
   "cell_type": "code",
   "execution_count": 1,
   "id": "6074cabe",
   "metadata": {},
   "outputs": [],
   "source": [
    "import pandas as pd\n",
    "import numpy as np\n",
    "from sklearn.preprocessing import LabelEncoder\n",
    "from sklearn.preprocessing import OrdinalEncoder\n",
    "from sklearn.feature_extraction.text import TfidfVectorizer\n",
    "from sklearn.model_selection import train_test_split\n",
    "import joblib\n",
    "import scipy\n",
    "import pandas as pd"
   ]
  },
  {
   "cell_type": "code",
   "execution_count": 2,
   "id": "e178cf89",
   "metadata": {},
   "outputs": [],
   "source": [
    "df = pd.read_csv('../data/processed/cleaned_dataset.csv')"
   ]
  },
  {
   "cell_type": "code",
   "execution_count": null,
   "id": "d3b9d9ee",
   "metadata": {},
   "outputs": [],
   "source": [
    "# # get texts from text cols\n",
    "# a = df['QUESTION_clean']\n",
    "# b = df['TITLE']\n",
    "# c = df['ANSWER_clean']\n",
    "\n",
    "# a.to_csv('../data/question_texts.csv', index=False)\n",
    "# b.to_csv('../data/title_texts.csv', index=False)\n",
    "# c.to_csv('../data/answer_texts.csv', index=False)"
   ]
  },
  {
   "cell_type": "markdown",
   "id": "705b987f",
   "metadata": {},
   "source": [
    "### Сплит данных"
   ]
  },
  {
   "cell_type": "code",
   "execution_count": 47,
   "id": "fc25eb92",
   "metadata": {},
   "outputs": [],
   "source": [
    "# Будем стратифицировать по всем таргетам сразу\n",
    "df['stratify_key'] = df['SUBCATEGORY_clean'].astype(str) + '_' + df['PRIORITY'].astype(str) + df['AVARIYA'].astype(str)\n",
    "counts = df['stratify_key'].value_counts()\n",
    "rare_classes = counts[counts < 20].index\n",
    "df['stratify_key'] = df['stratify_key'].replace(rare_classes, 'OTHER')\n",
    "df['stratify_key'].value_counts()\n",
    "\n",
    "all_ids = df.index.values\n",
    "train_val_ids, test_ids = train_test_split(\n",
    "    all_ids,\n",
    "    test_size=0.10,\n",
    "    random_state=42,\n",
    "    stratify=df['stratify_key'],\n",
    "    shuffle=True\n",
    ")\n",
    "\n",
    "# Subset stratify_key to the train_val_ids\n",
    "train_val_stratify = df.loc[train_val_ids, 'stratify_key']\n",
    "\n",
    "train_ids, val_ids = train_test_split(\n",
    "    train_val_ids,\n",
    "    test_size=0.15,\n",
    "    random_state=42,\n",
    "    stratify=train_val_stratify,\n",
    "    shuffle=True\n",
    ")\n",
    "\n",
    "np.save(\"../data/splits/train.npy\", train_ids)\n",
    "np.save(\"../data/splits/val.npy\", val_ids)\n",
    "np.save(\"../data/splits/test.npy\", test_ids)"
   ]
  },
  {
   "cell_type": "markdown",
   "id": "3acce727",
   "metadata": {},
   "source": [
    "Добавим выборку поменьше"
   ]
  },
  {
   "cell_type": "code",
   "execution_count": 48,
   "id": "dd5cdf7c",
   "metadata": {},
   "outputs": [
    {
     "name": "stdout",
     "output_type": "stream",
     "text": [
      "Original sizes - Train: 539850, Val: 95268, Test: 70569\n",
      "Subsampled sizes - Train: 179950, Val: 31756, Test: 23523\n"
     ]
    }
   ],
   "source": [
    "def subsample_stratified(ids, stratify_column, fraction=1/3, random_state=42):\n",
    "    \"\"\"Subsample while maintaining stratification\"\"\"\n",
    "    if fraction >= 1.0:\n",
    "        return ids\n",
    "    \n",
    "    # Get the stratify values for these IDs\n",
    "    stratify_values = stratify_column.loc[ids]\n",
    "    \n",
    "    # Perform stratified sampling\n",
    "    subsampled_ids, _ = train_test_split(\n",
    "        ids,\n",
    "        train_size=fraction,\n",
    "        random_state=random_state,\n",
    "        stratify=stratify_values,\n",
    "        shuffle=True\n",
    "    )\n",
    "    return subsampled_ids\n",
    "\n",
    "# Subsample each split\n",
    "train_ids_subsampled = subsample_stratified(train_ids, df['stratify_key'], fraction=1/3)\n",
    "val_ids_subsampled = subsample_stratified(val_ids, df['stratify_key'], fraction=1/3)\n",
    "test_ids_subsampled = subsample_stratified(test_ids, df['stratify_key'], fraction=1/3)\n",
    "\n",
    "print(f\"Original sizes - Train: {len(train_ids)}, Val: {len(val_ids)}, Test: {len(test_ids)}\")\n",
    "print(f\"Subsampled sizes - Train: {len(train_ids_subsampled)}, Val: {len(val_ids_subsampled)}, Test: {len(test_ids_subsampled)}\")\n",
    "\n",
    "np.save(\"../data/splits/train_small.npy\", train_ids_subsampled)\n",
    "np.save(\"../data/splits/val_small.npy\", val_ids_subsampled)\n",
    "np.save(\"../data/splits/test_small.npy\", test_ids_subsampled)"
   ]
  },
  {
   "cell_type": "code",
   "execution_count": 56,
   "id": "01e56b07",
   "metadata": {},
   "outputs": [
    {
     "data": {
      "text/plain": [
       "SUBCATEGORY_clean\n",
       "Прочее                                       9713\n",
       "Доступ к ИСОД                                8431\n",
       "Запрос на администрирование                  3532\n",
       "Настройка ПО и оборудования                   501\n",
       "Авария                                        375\n",
       "Коррекция данных                              236\n",
       "ОШС                                           186\n",
       "Консультация                                  147\n",
       "Программное обеспечение. Региональные ПТК     126\n",
       "Запрос статуса                                119\n",
       "Программное обеспечение                        61\n",
       "СПГУ                                           58\n",
       "Запрос на доработку                            31\n",
       "Оборудование                                    7\n",
       "Name: count, dtype: int64"
      ]
     },
     "execution_count": 56,
     "metadata": {},
     "output_type": "execute_result"
    }
   ],
   "source": [
    "df.iloc[test_ids_subsampled]['SUBCATEGORY_clean'].value_counts()"
   ]
  },
  {
   "cell_type": "markdown",
   "id": "66c1d4a2",
   "metadata": {},
   "source": [
    ">Вроде все классы есть"
   ]
  },
  {
   "cell_type": "markdown",
   "id": "bc291ad4",
   "metadata": {},
   "source": [
    "## Feature extraction"
   ]
  },
  {
   "cell_type": "markdown",
   "id": "4331bf05",
   "metadata": {},
   "source": [
    "### Текстовые фичи"
   ]
  },
  {
   "cell_type": "code",
   "execution_count": null,
   "id": "1adeaa0e",
   "metadata": {},
   "outputs": [],
   "source": [
    "# not using\n",
    "# # TF-ID\n",
    "# tfidf = TfidfVectorizer(\n",
    "#     max_features=8000,  # можно увеличить для точности\n",
    "#     ngram_range=(1,2),\n",
    "#     min_df=5\n",
    "# )\n",
    "\n",
    "# # Используем train split чтобы не было утечки\n",
    "# tfidf.fit(df.loc[train_ids, 'QUESTION_FULL'])\n",
    "# X_question_full = tfidf.transform(df['QUESTION_FULL'])"
   ]
  },
  {
   "cell_type": "markdown",
   "id": "e7becc85",
   "metadata": {},
   "source": [
    "Эмбеддинги для всех текстовых фич вычислили отдельно на сервере (bge_m3)"
   ]
  },
  {
   "cell_type": "code",
   "execution_count": null,
   "id": "e4740fbe",
   "metadata": {},
   "outputs": [],
   "source": [
    "# def build_sentence_embeddings(df, column, model_path, save_path=None):\n",
    "#     model = SentenceTransformer(model_path)\n",
    "#     sentences = df[column].tolist()\n",
    "#     embeddings = model.encode(sentences, batch_size=64, show_progress_bar=True)\n",
    "    \n",
    "#     if save_path:\n",
    "#         np.savez_compressed(save_path, embeddings)\n",
    "#     return embeddings"
   ]
  },
  {
   "cell_type": "code",
   "execution_count": null,
   "id": "7d86c40c",
   "metadata": {},
   "outputs": [],
   "source": [
    "# build_sentence_embeddings(df, 'QUESTION_FULL', model_path='../models/embeddings/deepvk_USER-bge-m3', save_path='../data/features/question_bge_m3.npz')"
   ]
  },
  {
   "cell_type": "markdown",
   "id": "8ce57b23",
   "metadata": {},
   "source": [
    "### Категориальные фичи"
   ]
  },
  {
   "cell_type": "markdown",
   "id": "dc655232",
   "metadata": {},
   "source": [
    "Закодируем s_name, reg, source с OE.\n",
    "\n",
    "Когда добавим новые классы, они будут маппиться в эмбеддинг с номером cardinality+1 "
   ]
  },
  {
   "cell_type": "code",
   "execution_count": 3,
   "id": "669168fd",
   "metadata": {},
   "outputs": [],
   "source": [
    "# load ids again\n",
    "train_ids = np.load('../data/splits/train.npy')\n",
    "test_ids = np.load('../data/splits/test.npy')\n",
    "val_ids = np.load('../data/splits/val.npy')"
   ]
  },
  {
   "cell_type": "code",
   "execution_count": 4,
   "id": "220feab2",
   "metadata": {},
   "outputs": [
    {
     "name": "stdout",
     "output_type": "stream",
     "text": [
      "S_NAME     22\n",
      "REG       933\n",
      "SOURCE      5\n",
      "dtype: int64\n"
     ]
    }
   ],
   "source": [
    "ord_encoders = {}\n",
    "\n",
    "cat_cols = ['S_NAME', 'REG', 'SOURCE']\n",
    "\n",
    "# cat features cardinalities for train configs\n",
    "print(df[cat_cols].nunique())\n",
    "\n",
    "for col in cat_cols:\n",
    "    oe = OrdinalEncoder(handle_unknown=\"use_encoded_value\", unknown_value=-1)\n",
    "    oe.fit(df.loc[train_ids, [col]]) \n",
    "    df[col + '_enc'] = oe.transform(df[[col]]).flatten()  # Transform and flatten to 1D\n",
    "    ord_encoders[col] = oe"
   ]
  },
  {
   "cell_type": "markdown",
   "id": "798d4df3",
   "metadata": {},
   "source": [
    "Добавим категориальные фичи, выделенные плейсхолдерами из текста"
   ]
  },
  {
   "cell_type": "code",
   "execution_count": 5,
   "id": "cf876c35",
   "metadata": {},
   "outputs": [],
   "source": [
    "# patterns from preprocessing.ipynb\n",
    "SENSITIVE_PATTERNS = {\n",
    "    \"EMAIL\": r'\\b[A-Za-z0-9._%+-]+@(?:[A-Za-z0-9-]+\\.)+[A-Za-z]{2,}\\b|<\".+?\"@[^>]+>',\n",
    "    \"INN\": r'(?i)инн\\s*\\d{5,12}',\n",
    "    \"PHONE\": r'\\b(?:\\+7|8)?[\\s-]?\\(?\\d{3,4}\\)?[\\s-]?\\d{2,3}[\\s-]?\\d{2}[\\s-]?\\d{2}(?:\\s*\\(доб\\.\\s*\\d+\\))?\\b',\n",
    "    # \"PHONE_EXT\": r'\\b8\\s?\\d{3,4}[\\s-]?\\d{2}[\\s-]?\\d{2}[\\s-]?\\d{2}(?:\\s*\\(доб\\.\\s*\\d+\\))?',\n",
    "    \"VIN\": r'\\b[A-HJ-NPR-Z0-9]{17}\\b',\n",
    "    \"INCEDENT\": r'\\bIM\\d{8-12}\\b',\n",
    "    \"REG_NUMBER\": r'\\b[АВЕКМНОРСТУХ]{1,3}\\d{3,4}[АВЕКМНОРСТУХ]{2}\\b',\n",
    "    \"CASE_NO\": r'\\b(?:[CcSs]D|T)\\d{6,10}\\b',\n",
    "    \"APPEAL_NO\": r'\\b\\d/\\d{9,12}\\b',\n",
    "    \"DOC_NO\": r'№\\s?\\d{1,6}([/\\\\-]?\\d{1,6})?([А-ЯA-Z])?',\n",
    "    \"LONG_ID\": r'\\b\\d{9,}\\b|\\b[a-f0-9]{32,128}\\b|(?:UID|GlndID|GUID)[: ]?[0-9a-fA-F\\-]{16,128}',\n",
    "    \"IP\": r'\\b(?:\\d{1,3}\\.){3}\\d{1,3}\\b',\n",
    "    \"DATE\": r'\\b\\d{2}[./-]\\d{2}[./-]\\d{2,4}(?:\\s?г\\.?)?',\n",
    "    \"FIO\": r'\\b[А-ЯЁ][а-яё]+ [А-ЯЁ]\\.[А-ЯЁ]\\.(?=[\\s,.)/]|$)',\n",
    "    \"USERNAME\": r'\\b[a-zA-Z][a-zA-Z0-9]{3,15}\\d\\b',\n",
    "    \"TOKEN\": r'\\b[a-f0-9]{16,64}\\b|\\b(?=.*[A-Z])(?=.*[a-z])(?=.*\\d)[A-Za-z0-9]{12,64}\\b',\n",
    "    \"URL\": r'https?://[^\\s]+',\n",
    "}"
   ]
  },
  {
   "cell_type": "code",
   "execution_count": 6,
   "id": "5b4974eb",
   "metadata": {},
   "outputs": [],
   "source": [
    "def extract_sensitive_flags(text: str) -> dict:\n",
    "    \"\"\"Возвращает булевы фичи для классификаторов\"\"\"\n",
    "    flags = {f\"HAS_{k}\": 0 for k in SENSITIVE_PATTERNS.keys()}\n",
    "    \n",
    "    if not isinstance(text, str) or text.strip() == \"\" or text == \"[NO_TEXT]\":\n",
    "        flags[\"HAS_TEXT\"] = 0\n",
    "        return flags\n",
    "    \n",
    "    for placeholder in SENSITIVE_PATTERNS.keys():\n",
    "        if placeholder in text:\n",
    "            flags[f\"HAS_{placeholder}\"] = 1\n",
    "    \n",
    "    # Флаг наличия текста\n",
    "    flags[\"HAS_TEXT\"] = 1\n",
    "    \n",
    "    return flags"
   ]
  },
  {
   "cell_type": "code",
   "execution_count": 7,
   "id": "3565937b",
   "metadata": {},
   "outputs": [],
   "source": [
    "flags_df = df['QUESTION_clean'].apply(extract_sensitive_flags)"
   ]
  },
  {
   "cell_type": "code",
   "execution_count": 8,
   "id": "ff003282",
   "metadata": {},
   "outputs": [],
   "source": [
    "flags_df = flags_df.apply(pd.Series)"
   ]
  },
  {
   "cell_type": "code",
   "execution_count": 9,
   "id": "441c2794",
   "metadata": {},
   "outputs": [
    {
     "data": {
      "text/html": [
       "<div>\n",
       "<style scoped>\n",
       "    .dataframe tbody tr th:only-of-type {\n",
       "        vertical-align: middle;\n",
       "    }\n",
       "\n",
       "    .dataframe tbody tr th {\n",
       "        vertical-align: top;\n",
       "    }\n",
       "\n",
       "    .dataframe thead th {\n",
       "        text-align: right;\n",
       "    }\n",
       "</style>\n",
       "<table border=\"1\" class=\"dataframe\">\n",
       "  <thead>\n",
       "    <tr style=\"text-align: right;\">\n",
       "      <th></th>\n",
       "      <th>HAS_EMAIL</th>\n",
       "      <th>HAS_INN</th>\n",
       "      <th>HAS_PHONE</th>\n",
       "      <th>HAS_VIN</th>\n",
       "      <th>HAS_INCEDENT</th>\n",
       "      <th>HAS_REG_NUMBER</th>\n",
       "      <th>HAS_CASE_NO</th>\n",
       "      <th>HAS_APPEAL_NO</th>\n",
       "      <th>HAS_DOC_NO</th>\n",
       "      <th>HAS_LONG_ID</th>\n",
       "      <th>HAS_IP</th>\n",
       "      <th>HAS_DATE</th>\n",
       "      <th>HAS_FIO</th>\n",
       "      <th>HAS_USERNAME</th>\n",
       "      <th>HAS_TOKEN</th>\n",
       "      <th>HAS_URL</th>\n",
       "      <th>HAS_TEXT</th>\n",
       "    </tr>\n",
       "  </thead>\n",
       "  <tbody>\n",
       "    <tr>\n",
       "      <th>604221</th>\n",
       "      <td>0</td>\n",
       "      <td>0</td>\n",
       "      <td>0</td>\n",
       "      <td>0</td>\n",
       "      <td>0</td>\n",
       "      <td>0</td>\n",
       "      <td>0</td>\n",
       "      <td>0</td>\n",
       "      <td>0</td>\n",
       "      <td>0</td>\n",
       "      <td>0</td>\n",
       "      <td>0</td>\n",
       "      <td>0</td>\n",
       "      <td>0</td>\n",
       "      <td>0</td>\n",
       "      <td>0</td>\n",
       "      <td>1</td>\n",
       "    </tr>\n",
       "    <tr>\n",
       "      <th>573058</th>\n",
       "      <td>0</td>\n",
       "      <td>0</td>\n",
       "      <td>0</td>\n",
       "      <td>0</td>\n",
       "      <td>0</td>\n",
       "      <td>0</td>\n",
       "      <td>0</td>\n",
       "      <td>0</td>\n",
       "      <td>0</td>\n",
       "      <td>0</td>\n",
       "      <td>0</td>\n",
       "      <td>0</td>\n",
       "      <td>0</td>\n",
       "      <td>0</td>\n",
       "      <td>0</td>\n",
       "      <td>0</td>\n",
       "      <td>1</td>\n",
       "    </tr>\n",
       "    <tr>\n",
       "      <th>157623</th>\n",
       "      <td>0</td>\n",
       "      <td>0</td>\n",
       "      <td>0</td>\n",
       "      <td>0</td>\n",
       "      <td>0</td>\n",
       "      <td>0</td>\n",
       "      <td>0</td>\n",
       "      <td>0</td>\n",
       "      <td>0</td>\n",
       "      <td>0</td>\n",
       "      <td>0</td>\n",
       "      <td>0</td>\n",
       "      <td>0</td>\n",
       "      <td>0</td>\n",
       "      <td>0</td>\n",
       "      <td>0</td>\n",
       "      <td>1</td>\n",
       "    </tr>\n",
       "    <tr>\n",
       "      <th>610670</th>\n",
       "      <td>0</td>\n",
       "      <td>0</td>\n",
       "      <td>0</td>\n",
       "      <td>0</td>\n",
       "      <td>0</td>\n",
       "      <td>0</td>\n",
       "      <td>0</td>\n",
       "      <td>0</td>\n",
       "      <td>0</td>\n",
       "      <td>0</td>\n",
       "      <td>0</td>\n",
       "      <td>1</td>\n",
       "      <td>0</td>\n",
       "      <td>0</td>\n",
       "      <td>0</td>\n",
       "      <td>0</td>\n",
       "      <td>1</td>\n",
       "    </tr>\n",
       "    <tr>\n",
       "      <th>393292</th>\n",
       "      <td>0</td>\n",
       "      <td>0</td>\n",
       "      <td>0</td>\n",
       "      <td>0</td>\n",
       "      <td>0</td>\n",
       "      <td>0</td>\n",
       "      <td>0</td>\n",
       "      <td>0</td>\n",
       "      <td>0</td>\n",
       "      <td>0</td>\n",
       "      <td>0</td>\n",
       "      <td>0</td>\n",
       "      <td>1</td>\n",
       "      <td>0</td>\n",
       "      <td>0</td>\n",
       "      <td>0</td>\n",
       "      <td>1</td>\n",
       "    </tr>\n",
       "  </tbody>\n",
       "</table>\n",
       "</div>"
      ],
      "text/plain": [
       "        HAS_EMAIL  HAS_INN  HAS_PHONE  HAS_VIN  HAS_INCEDENT  HAS_REG_NUMBER  \\\n",
       "604221          0        0          0        0             0               0   \n",
       "573058          0        0          0        0             0               0   \n",
       "157623          0        0          0        0             0               0   \n",
       "610670          0        0          0        0             0               0   \n",
       "393292          0        0          0        0             0               0   \n",
       "\n",
       "        HAS_CASE_NO  HAS_APPEAL_NO  HAS_DOC_NO  HAS_LONG_ID  HAS_IP  HAS_DATE  \\\n",
       "604221            0              0           0            0       0         0   \n",
       "573058            0              0           0            0       0         0   \n",
       "157623            0              0           0            0       0         0   \n",
       "610670            0              0           0            0       0         1   \n",
       "393292            0              0           0            0       0         0   \n",
       "\n",
       "        HAS_FIO  HAS_USERNAME  HAS_TOKEN  HAS_URL  HAS_TEXT  \n",
       "604221        0             0          0        0         1  \n",
       "573058        0             0          0        0         1  \n",
       "157623        0             0          0        0         1  \n",
       "610670        0             0          0        0         1  \n",
       "393292        1             0          0        0         1  "
      ]
     },
     "execution_count": 9,
     "metadata": {},
     "output_type": "execute_result"
    }
   ],
   "source": [
    "flags_df.sample(5)"
   ]
  },
  {
   "cell_type": "code",
   "execution_count": 10,
   "id": "61aa1707",
   "metadata": {},
   "outputs": [],
   "source": [
    "df = pd.concat([df, flags_df], axis=1)"
   ]
  },
  {
   "cell_type": "code",
   "execution_count": 11,
   "id": "2aa2957f",
   "metadata": {},
   "outputs": [
    {
     "data": {
      "text/html": [
       "<div>\n",
       "<style scoped>\n",
       "    .dataframe tbody tr th:only-of-type {\n",
       "        vertical-align: middle;\n",
       "    }\n",
       "\n",
       "    .dataframe tbody tr th {\n",
       "        vertical-align: top;\n",
       "    }\n",
       "\n",
       "    .dataframe thead th {\n",
       "        text-align: right;\n",
       "    }\n",
       "</style>\n",
       "<table border=\"1\" class=\"dataframe\">\n",
       "  <thead>\n",
       "    <tr style=\"text-align: right;\">\n",
       "      <th></th>\n",
       "      <th>S_NAME</th>\n",
       "      <th>QUESTION</th>\n",
       "      <th>ANSWER</th>\n",
       "      <th>OPEN_TIME_</th>\n",
       "      <th>RESOLVE_TIME_</th>\n",
       "      <th>CLOSE_TIME_</th>\n",
       "      <th>ATC_NEXT_BREACH_</th>\n",
       "      <th>TITLE</th>\n",
       "      <th>SUBCATEGORY</th>\n",
       "      <th>REG</th>\n",
       "      <th>...</th>\n",
       "      <th>HAS_APPEAL_NO</th>\n",
       "      <th>HAS_DOC_NO</th>\n",
       "      <th>HAS_LONG_ID</th>\n",
       "      <th>HAS_IP</th>\n",
       "      <th>HAS_DATE</th>\n",
       "      <th>HAS_FIO</th>\n",
       "      <th>HAS_USERNAME</th>\n",
       "      <th>HAS_TOKEN</th>\n",
       "      <th>HAS_URL</th>\n",
       "      <th>HAS_TEXT</th>\n",
       "    </tr>\n",
       "  </thead>\n",
       "  <tbody>\n",
       "    <tr>\n",
       "      <th>404429</th>\n",
       "      <td>СУДИС</td>\n",
       "      <td>Отправка: УМВД Zayavka na sbros paroly Хасанов...</td>\n",
       "      <td>Пароль сброшен, архив с данными направлен в ад...</td>\n",
       "      <td>2023-04-07 19:16:05</td>\n",
       "      <td>2023-03-11 11:05:52</td>\n",
       "      <td>2023-10-11 11:06:13</td>\n",
       "      <td>2023-04-24 09:00:21</td>\n",
       "      <td>Восстановление пароля УЗ</td>\n",
       "      <td>Доступ к ИСОД</td>\n",
       "      <td>Приволжский федеральный округ/Удмуртская Респу...</td>\n",
       "      <td>...</td>\n",
       "      <td>0</td>\n",
       "      <td>0</td>\n",
       "      <td>0</td>\n",
       "      <td>0</td>\n",
       "      <td>0</td>\n",
       "      <td>0</td>\n",
       "      <td>0</td>\n",
       "      <td>0</td>\n",
       "      <td>0</td>\n",
       "      <td>1</td>\n",
       "    </tr>\n",
       "    <tr>\n",
       "      <th>112444</th>\n",
       "      <td>СЭД</td>\n",
       "      <td>Изменение УЗ (Ч В) Описание пустое</td>\n",
       "      <td>Изменения внесены, данные на ВИСП отобразятся ...</td>\n",
       "      <td>2022-05-11 09:06:01</td>\n",
       "      <td>2022-05-11 16:59:12</td>\n",
       "      <td>2022-06-11 10:04:40</td>\n",
       "      <td>2022-12-11 11:11:30</td>\n",
       "      <td>Изменение данных УЗ</td>\n",
       "      <td>Доступ к ИСОД</td>\n",
       "      <td>Приволжский федеральный округ/Самарская область</td>\n",
       "      <td>...</td>\n",
       "      <td>0</td>\n",
       "      <td>0</td>\n",
       "      <td>0</td>\n",
       "      <td>0</td>\n",
       "      <td>0</td>\n",
       "      <td>0</td>\n",
       "      <td>0</td>\n",
       "      <td>0</td>\n",
       "      <td>0</td>\n",
       "      <td>1</td>\n",
       "    </tr>\n",
       "    <tr>\n",
       "      <th>666949</th>\n",
       "      <td>СЭД</td>\n",
       "      <td>Добрый день! Подскажите пожалуйста, налажена о...</td>\n",
       "      <td>Функциональность восстановлена</td>\n",
       "      <td>2023-12-04 15:55:32</td>\n",
       "      <td>2023-12-05 09:21:58</td>\n",
       "      <td>2023-12-07 13:32:08</td>\n",
       "      <td>2023-04-19 15:33:34</td>\n",
       "      <td>СЭД. Северо-Западный федеральный округ. Наруше...</td>\n",
       "      <td>Авария</td>\n",
       "      <td>Северо-Западный федеральный округ/Республика Коми</td>\n",
       "      <td>...</td>\n",
       "      <td>0</td>\n",
       "      <td>0</td>\n",
       "      <td>0</td>\n",
       "      <td>0</td>\n",
       "      <td>0</td>\n",
       "      <td>1</td>\n",
       "      <td>0</td>\n",
       "      <td>0</td>\n",
       "      <td>0</td>\n",
       "      <td>1</td>\n",
       "    </tr>\n",
       "    <tr>\n",
       "      <th>19720</th>\n",
       "      <td>СЭД</td>\n",
       "      <td>Просьба зарегистрировать обращение на Блокиров...</td>\n",
       "      <td>Учетная запись заблокирована, изменение на ВИС...</td>\n",
       "      <td>2022-01-25 17:37:23</td>\n",
       "      <td>2022-01-26 13:50:53</td>\n",
       "      <td>2022-02-02 13:02:12</td>\n",
       "      <td>2022-01-09 17:37:23</td>\n",
       "      <td>Блокировка УЗ</td>\n",
       "      <td>Доступ к ИСОД</td>\n",
       "      <td>Южный федеральный округ/Волгоградская область</td>\n",
       "      <td>...</td>\n",
       "      <td>0</td>\n",
       "      <td>0</td>\n",
       "      <td>0</td>\n",
       "      <td>0</td>\n",
       "      <td>0</td>\n",
       "      <td>1</td>\n",
       "      <td>0</td>\n",
       "      <td>0</td>\n",
       "      <td>0</td>\n",
       "      <td>1</td>\n",
       "    </tr>\n",
       "    <tr>\n",
       "      <th>470698</th>\n",
       "      <td>СУДИС</td>\n",
       "      <td>Создание ЦКС</td>\n",
       "      <td>Учетные записи созданы</td>\n",
       "      <td>2023-06-06 08:02:12</td>\n",
       "      <td>2023-06-06 18:07:20</td>\n",
       "      <td>2023-06-13 18:00:54</td>\n",
       "      <td>2023-06-20 18:00:00</td>\n",
       "      <td>Создание УЗ</td>\n",
       "      <td>Доступ к ИСОД</td>\n",
       "      <td>Приволжский федеральный округ/Оренбургская обл...</td>\n",
       "      <td>...</td>\n",
       "      <td>0</td>\n",
       "      <td>0</td>\n",
       "      <td>0</td>\n",
       "      <td>0</td>\n",
       "      <td>0</td>\n",
       "      <td>0</td>\n",
       "      <td>0</td>\n",
       "      <td>0</td>\n",
       "      <td>0</td>\n",
       "      <td>1</td>\n",
       "    </tr>\n",
       "  </tbody>\n",
       "</table>\n",
       "<p>5 rows × 36 columns</p>\n",
       "</div>"
      ],
      "text/plain": [
       "       S_NAME                                           QUESTION  \\\n",
       "404429  СУДИС  Отправка: УМВД Zayavka na sbros paroly Хасанов...   \n",
       "112444    СЭД                 Изменение УЗ (Ч В) Описание пустое   \n",
       "666949    СЭД  Добрый день! Подскажите пожалуйста, налажена о...   \n",
       "19720     СЭД  Просьба зарегистрировать обращение на Блокиров...   \n",
       "470698  СУДИС                                       Создание ЦКС   \n",
       "\n",
       "                                                   ANSWER  \\\n",
       "404429  Пароль сброшен, архив с данными направлен в ад...   \n",
       "112444  Изменения внесены, данные на ВИСП отобразятся ...   \n",
       "666949                     Функциональность восстановлена   \n",
       "19720   Учетная запись заблокирована, изменение на ВИС...   \n",
       "470698                             Учетные записи созданы   \n",
       "\n",
       "                 OPEN_TIME_        RESOLVE_TIME_          CLOSE_TIME_  \\\n",
       "404429  2023-04-07 19:16:05  2023-03-11 11:05:52  2023-10-11 11:06:13   \n",
       "112444  2022-05-11 09:06:01  2022-05-11 16:59:12  2022-06-11 10:04:40   \n",
       "666949  2023-12-04 15:55:32  2023-12-05 09:21:58  2023-12-07 13:32:08   \n",
       "19720   2022-01-25 17:37:23  2022-01-26 13:50:53  2022-02-02 13:02:12   \n",
       "470698  2023-06-06 08:02:12  2023-06-06 18:07:20  2023-06-13 18:00:54   \n",
       "\n",
       "           ATC_NEXT_BREACH_  \\\n",
       "404429  2023-04-24 09:00:21   \n",
       "112444  2022-12-11 11:11:30   \n",
       "666949  2023-04-19 15:33:34   \n",
       "19720   2022-01-09 17:37:23   \n",
       "470698  2023-06-20 18:00:00   \n",
       "\n",
       "                                                    TITLE    SUBCATEGORY  \\\n",
       "404429                           Восстановление пароля УЗ  Доступ к ИСОД   \n",
       "112444                                Изменение данных УЗ  Доступ к ИСОД   \n",
       "666949  СЭД. Северо-Западный федеральный округ. Наруше...         Авария   \n",
       "19720                                       Блокировка УЗ  Доступ к ИСОД   \n",
       "470698                                        Создание УЗ  Доступ к ИСОД   \n",
       "\n",
       "                                                      REG  ...  HAS_APPEAL_NO  \\\n",
       "404429  Приволжский федеральный округ/Удмуртская Респу...  ...              0   \n",
       "112444    Приволжский федеральный округ/Самарская область  ...              0   \n",
       "666949  Северо-Западный федеральный округ/Республика Коми  ...              0   \n",
       "19720       Южный федеральный округ/Волгоградская область  ...              0   \n",
       "470698  Приволжский федеральный округ/Оренбургская обл...  ...              0   \n",
       "\n",
       "       HAS_DOC_NO HAS_LONG_ID HAS_IP HAS_DATE HAS_FIO  HAS_USERNAME  \\\n",
       "404429          0           0      0        0       0             0   \n",
       "112444          0           0      0        0       0             0   \n",
       "666949          0           0      0        0       1             0   \n",
       "19720           0           0      0        0       1             0   \n",
       "470698          0           0      0        0       0             0   \n",
       "\n",
       "        HAS_TOKEN  HAS_URL  HAS_TEXT  \n",
       "404429          0        0         1  \n",
       "112444          0        0         1  \n",
       "666949          0        0         1  \n",
       "19720           0        0         1  \n",
       "470698          0        0         1  \n",
       "\n",
       "[5 rows x 36 columns]"
      ]
     },
     "execution_count": 11,
     "metadata": {},
     "output_type": "execute_result"
    }
   ],
   "source": [
    "df.sample(5)"
   ]
  },
  {
   "cell_type": "code",
   "execution_count": 12,
   "id": "71d72555",
   "metadata": {},
   "outputs": [],
   "source": [
    "placeholder_cat_cols = [f\"HAS_{placeholder}\" for placeholder in SENSITIVE_PATTERNS.keys()]"
   ]
  },
  {
   "cell_type": "code",
   "execution_count": 13,
   "id": "c98bce83",
   "metadata": {},
   "outputs": [
    {
     "data": {
      "text/plain": [
       "array(['S_NAME_enc', 'REG_enc', 'SOURCE_enc', 'HAS_EMAIL', 'HAS_INN',\n",
       "       'HAS_PHONE', 'HAS_VIN', 'HAS_INCEDENT', 'HAS_REG_NUMBER',\n",
       "       'HAS_CASE_NO', 'HAS_APPEAL_NO', 'HAS_DOC_NO', 'HAS_LONG_ID',\n",
       "       'HAS_IP', 'HAS_DATE', 'HAS_FIO', 'HAS_USERNAME', 'HAS_TOKEN',\n",
       "       'HAS_URL'], dtype='<U14')"
      ]
     },
     "execution_count": 13,
     "metadata": {},
     "output_type": "execute_result"
    }
   ],
   "source": [
    "cat_cols = [f'{col}_enc' for col in cat_cols]\n",
    "cat_cols = np.concatenate((cat_cols, placeholder_cat_cols))\n",
    "cat_cols"
   ]
  },
  {
   "cell_type": "code",
   "execution_count": 14,
   "id": "4c3c4c3c",
   "metadata": {},
   "outputs": [],
   "source": [
    "X_cat = df[cat_cols].values"
   ]
  },
  {
   "cell_type": "code",
   "execution_count": 15,
   "id": "e0f08d8e",
   "metadata": {},
   "outputs": [
    {
     "data": {
      "text/plain": [
       "(705687, 19)"
      ]
     },
     "execution_count": 15,
     "metadata": {},
     "output_type": "execute_result"
    }
   ],
   "source": [
    "X_cat.shape"
   ]
  },
  {
   "cell_type": "markdown",
   "id": "4046d7f1",
   "metadata": {},
   "source": [
    "### Временные фичи"
   ]
  },
  {
   "cell_type": "code",
   "execution_count": 16,
   "id": "59d4c801",
   "metadata": {},
   "outputs": [],
   "source": [
    "for col in ['OPEN_TIME_', 'RESOLVE_TIME_', 'CLOSE_TIME_', 'ATC_NEXT_BREACH_']:\n",
    "    df[col] = pd.to_datetime(df[col], errors='coerce')\n",
    "\n",
    "# Encoding cyclical features\n",
    "hour = df['OPEN_TIME_'].dt.hour\n",
    "df['hour_sin'] = np.sin(hour * (2. * np.pi / 24.))\n",
    "df['hour_cos'] = np.cos(hour * (2. * np.pi / 24.))\n",
    "\n",
    "day_of_week = df['OPEN_TIME_'].dt.dayofweek\n",
    "df['day_of_week_sin'] = np.sin(day_of_week * (2. * np.pi / 7.))\n",
    "df['day_of_week_cos'] = np.cos(day_of_week * (2. * np.pi / 7.))\n",
    "\n",
    "df['is_weekend'] = (day_of_week >= 5).astype(int)\n",
    "\n",
    "day_of_month = df['OPEN_TIME_'].dt.day\n",
    "df['day_of_month_sin'] = np.sin(day_of_month * (2. * np.pi / 31.))\n",
    "df['day_of_month_cos'] = np.cos(day_of_month * (2. * np.pi / 31.))"
   ]
  },
  {
   "cell_type": "code",
   "execution_count": 17,
   "id": "c2b6cd87",
   "metadata": {},
   "outputs": [],
   "source": [
    "X_time = df[['day_of_week_sin', 'day_of_week_cos', 'hour_sin', 'hour_cos', 'day_of_month_sin', 'day_of_month_cos', 'is_weekend']].fillna(0).values"
   ]
  },
  {
   "cell_type": "markdown",
   "id": "f0335d40",
   "metadata": {},
   "source": [
    "### Таргеты"
   ]
  },
  {
   "cell_type": "code",
   "execution_count": 18,
   "id": "99156710",
   "metadata": {},
   "outputs": [],
   "source": [
    "df['AVARIYA_enc'] = df['AVARIYA'].map({'Да':1, 'Нет':0})\n",
    "# priority kept as it is (2,3)"
   ]
  },
  {
   "cell_type": "code",
   "execution_count": 20,
   "id": "dd8f77cc",
   "metadata": {},
   "outputs": [],
   "source": [
    "le = LabelEncoder()\n",
    "le.fit(df.loc[train_ids, 'SUBCATEGORY_clean'])\n",
    "classes = le.classes_\n",
    "df[f'SUBCATEGORY_clean_processed'] = df['SUBCATEGORY_clean'].apply(lambda x: np.where(classes == x)[0][0] if x in classes else -1)\n",
    "df['SUBCATEGORY_clean_enc'] = le.transform(df['SUBCATEGORY_clean'])"
   ]
  },
  {
   "cell_type": "code",
   "execution_count": 23,
   "id": "7c59f7cb",
   "metadata": {},
   "outputs": [],
   "source": [
    "target_cols = ['SUBCATEGORY_clean_enc', 'PRIORITY', 'AVARIYA_enc']\n",
    "y = df[target_cols]"
   ]
  },
  {
   "cell_type": "markdown",
   "id": "3e430741",
   "metadata": {},
   "source": [
    "### Сохраняем фичи, таргеты и векторизаторы"
   ]
  },
  {
   "cell_type": "code",
   "execution_count": 70,
   "id": "fa405f24",
   "metadata": {},
   "outputs": [],
   "source": [
    "# np.savez_compressed(\"../data/features/question_tfidf.npz\", features=X_question_full, ids=df.index.values)\n",
    "np.savez_compressed('../data/features/cat_features.npz', features=X_cat, ids=df.index.values)\n",
    "np.savez_compressed('../data/features/time_features.npz', features=X_time, ids=df.index.values)\n",
    "\n",
    "y.to_csv('../data/targets/targets.csv', index=False)\n",
    "\n",
    "# joblib.dump(tfidf, '../models/vectorizers/tfidf_vectorizer.pkl')\n",
    "# for col, le in label_encoders.items():\n",
    "#     joblib.dump(le, f'../models/vectorizers/label_encoder_{col}.pkl')\n",
    "joblib.dump(le, f'../models/vectorizers/label_encoder_SUBCATEGORY_clean_enc.pkl')\n",
    "\n",
    "for col, oe in ord_encoders.items():\n",
    "    joblib.dump(oe, f'../models/vectorizers/ordinal_encoder_{col}.pkl')"
   ]
  }
 ],
 "metadata": {
  "kernelspec": {
   "display_name": "Python 3",
   "language": "python",
   "name": "python3"
  },
  "language_info": {
   "codemirror_mode": {
    "name": "ipython",
    "version": 3
   },
   "file_extension": ".py",
   "mimetype": "text/x-python",
   "name": "python",
   "nbconvert_exporter": "python",
   "pygments_lexer": "ipython3",
   "version": "3.12.3"
  }
 },
 "nbformat": 4,
 "nbformat_minor": 5
}
